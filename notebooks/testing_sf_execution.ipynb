{
 "cells": [
  {
   "cell_type": "code",
   "execution_count": 1,
   "id": "possible-sheffield",
   "metadata": {},
   "outputs": [],
   "source": [
    "import boto3\n",
    "import json\n",
    "from datetime import datetime\n",
    "import pytz\n",
    "\n",
    "\n",
    "region = 'us-east-1'\n",
    "client = boto3.client('stepfunctions', region_name = region)"
   ]
  },
  {
   "cell_type": "code",
   "execution_count": 2,
   "id": "collect-pennsylvania",
   "metadata": {},
   "outputs": [],
   "source": [
    "# failed_execution_name = 'ce001005-a92a-44c2-abd6-a968d222f78e_152106'\n",
    "# state_machine_name = 'prod-incoming-leads-business-process'\n",
    "\n",
    "# Supply Failed State Machine Name\n",
    "state_machine_name = 'prod-incoming-leads-business-process'\n",
    "state_machine_arn = f\"arn:aws:states:us-east-1:133240237239:stateMachine:{state_machine_name}\""
   ]
  },
  {
   "cell_type": "code",
   "execution_count": 3,
   "id": "described-israeli",
   "metadata": {},
   "outputs": [
    {
     "name": "stdout",
     "output_type": "stream",
     "text": [
      "More executions exist, loop through for pagination using next token AAAAKgAAAAIAAAAAAAAAAUZpPOs20/20l3Kv73NRBbz13XL18WaMbLNR7BMa6cZL2+Je4y2t4V9LP7tm976e4kB2BJt0Q4ifDDwERwhON3WJKWEAU1teZz2zdK0hp4z24sHyRLFfmmk80wyXK4XvdPlW3gfVGb2524QrmBZ6Ty8R5p8iVoypmrfuUNr/Ghnlx9iY9HTxiSkyw1eKRflgfhFoIeNIMgRiLh2EWWfb2rUw+VNRKqfHYs9Et8BCs3KpoF1lvaMpVRMjTsokMtcdx6bhZi6erEDOzvGa1tvUUcFq5rz21ycoFqOWvryYk7hMcsR2ddg1SHxtIlZJEKZd7PZY56iIqMWIu46z7pZFoqvjiNcY66s54l5Q90vn+SkmrkvpVxNOfKb4301UA74JXhz2VdY89BiWuk82sMliIkn4bmV0okvQn7G39Lx4s84F4Y/d70O/eg2YgZtVZnX+wCO+v047FdMey8WFl/LB8wW32X7gqi8Di5DBTJiOE3bC\n",
      "total executions = 1000\n"
     ]
    }
   ],
   "source": [
    "# Get list of executions \n",
    "\n",
    "response = client.list_executions(\n",
    "    stateMachineArn=state_machine_arn,\n",
    "    statusFilter='FAILED',\n",
    "    maxResults=1000\n",
    ")\n",
    "\n",
    "# print(response)\n",
    "if response.get(\"nextToken\", None):\n",
    "    print(f\"More executions exist, loop through for pagination using next token {response.get('nextToken')}\")\n",
    "print(f\"total executions = {len(response['executions'])}\")\n"
   ]
  },
  {
   "cell_type": "code",
   "execution_count": null,
   "id": "latter-processing",
   "metadata": {},
   "outputs": [],
   "source": [
    "\n",
    "response_1000_2000 = client.list_executions(\n",
    "    stateMachineArn=state_machine_arn,\n",
    "    statusFilter='FAILED',\n",
    "    maxResults=1000,\n",
    "    nextToken=\"AAAAKgAAAAIAAAAAAAAAAbjYh3FIkk5xe+Gw90qIqn86KkdJdO/uqtuiP6qp9Zc/jB46hvH/fRTVk3r1c67dgYrODj4UetPq6L7I+jTGdmp7gPmh2UeiLbXfI1mzyliXnLDXKzBFVNH3HsLq3ml1kwlvb/eZ+k6S5Exd5xxKuFGCX1ZY1A83eXzhVLnA/LRAxmVVGNZSPR1u7I5y2xOQkeF6b4/7LTLR1UUKxE5uCAiyToH0PWk6Yc8ZqpYBG4bnJNjIbHNshCneKAuFH23i1RdtQlFhRKTST8u7etETTEXw5++/wHanZ+MeX1QLPBCzQrnAfYUlf64gKo6m92DIabDCbLu4jNUyMB1hKP8Eq2ayK3fmV+64SaTZLIxJrK4o8j0K6kdHuttkUWunPGFFvaNusyuIqDnfyTDMQOkIj/1f3BrtB2LHnOIXPIA6EwbNF6iBFEUjG/PUVIPzizq8NoNH+0kzU4GclVyaKvuXtGH67c8NJh8YDIWJmSZozAE7\"\n",
    ")\n",
    "# print(response)\n",
    "if response_1000_2000.get(\"nextToken\", None):\n",
    "    print(f\"More executions exist, loop through for pagination using next token {response_1000_2000.get('nextToken')}\")\n",
    "print(f\"total executions = {len(response_1000_2000['executions'])}\")\n",
    "\n"
   ]
  },
  {
   "cell_type": "code",
   "execution_count": 10,
   "id": "afraid-savannah",
   "metadata": {},
   "outputs": [
    {
     "name": "stdout",
     "output_type": "stream",
     "text": [
      "total executions = 620\n"
     ]
    }
   ],
   "source": [
    "\n",
    "response_2000_3000 = client.list_executions(\n",
    "    stateMachineArn=state_machine_arn,\n",
    "    statusFilter='FAILED',\n",
    "    maxResults=1000,\n",
    "    nextToken=\"AAAAKgAAAAIAAAAAAAAAATI+FZXyvtLZ9L3OcDf1gl/xlpHRxK7RBc/Vx1q1NJrKKDshjfjaWRZEZ3lgLcCIIb5QcmCQdp55B5TOSpv6cl8eE0VVonZYEh8/5tTianaL54tMdTG/Ius7LCaSD678sem5RXvkqOr3dA5MP02kIVl4iq6JNszMiD/wP5Ta0nYfFFMYBTVe0+8eE3+2BD/5NZuEwcBwxX4uTD7fGy1yoItcnmghTicqkL357ry/4mACNaUaAV7d4b++um7ZXR3nRrgz6c6D7vy9zG9hi1nFbG/htAFfLfNF4BKKRZ2cRBks7bVrv1k7d0TRnFoPVprpB3pFyyzz2TZhfH5LJCjpTwizzA8m0WEocQ/t20yu4E7CBZhz6BqwHTHt/2+F66cAlHrErAODigbZsADqOEFufOOBaTMTG4Bypu2fqkc2u11edouGW/Ah3omRpaBaEro8lLAP9pCnGcz6vTJK5I1JI02TxcNyn/zuD9xnvXAQl1tx\"\n",
    ")\n",
    "\n",
    "# print(response)\n",
    "if response_2000_3000.get(\"nextToken\", None):\n",
    "    print(f\"More executions exist, loop through for pagination using next token {response_2000_3000.get('nextToken')}\")\n",
    "print(f\"total executions = {len(response_2000_3000['executions'])}\")\n",
    "\n"
   ]
  },
  {
   "cell_type": "code",
   "execution_count": 7,
   "id": "rotary-warner",
   "metadata": {},
   "outputs": [],
   "source": [
    "timezone = pytz.timezone('America/New_York')\n",
    "\n",
    "min_start_date_time_str = '2021-06-09 00:00:00.000000'\n",
    "min_start_date_time_obj = timezone.localize(datetime.strptime(min_start_date_time_str, '%Y-%m-%d %H:%M:%S.%f'))\n",
    "max_start_date_time_str = '2021-06-07 23:20:00.000000'\n",
    "max_start_date_time_obj = timezone.localize(datetime.strptime(max_start_date_time_str, '%Y-%m-%d %H:%M:%S.%f'))\n",
    "\n",
    "failed_execution_arns = []\n",
    "\n",
    "for execution in response['executions']:\n",
    "    if min_start_date_time_obj <= execution['startDate']:\n",
    "        failed_execution_arns.append(execution['executionArn'])\n",
    "\n",
    "        \n"
   ]
  },
  {
   "cell_type": "code",
   "execution_count": null,
   "id": "rational-attendance",
   "metadata": {},
   "outputs": [],
   "source": [
    "        \n",
    "for execution in response_1000_2000['executions']:\n",
    "    if min_start_date_time_obj <= execution['startDate']:\n",
    "        failed_execution_arns.append(execution['executionArn'])\n",
    "        \n",
    "for execution in response_2000_3000['executions']:\n",
    "    if min_start_date_time_obj <= execution['startDate']:\n",
    "        failed_execution_arns.append(execution['executionArn'])"
   ]
  },
  {
   "cell_type": "code",
   "execution_count": 8,
   "id": "blessed-killing",
   "metadata": {},
   "outputs": [
    {
     "name": "stdout",
     "output_type": "stream",
     "text": [
      "['arn:aws:states:us-east-1:133240237239:execution:prod-incoming-leads-business-process:7f977963-8ae5-4cfb-95f3-0cc8fba0b942_041117', 'arn:aws:states:us-east-1:133240237239:execution:prod-incoming-leads-business-process:fc2d5031-c243-48ad-90ff-99cfe66cb5d0_041118', 'arn:aws:states:us-east-1:133240237239:execution:prod-incoming-leads-business-process:104d2dce-0174-4a89-9a9b-245749b14f88_041111', 'arn:aws:states:us-east-1:133240237239:execution:prod-incoming-leads-business-process:5a321ad5-1403-4081-9c0c-cd10f6f68bf7_041018', 'arn:aws:states:us-east-1:133240237239:execution:prod-incoming-leads-business-process:0ff480a0-502f-43bd-96c1-0994dcf9e45d_041013']\n"
     ]
    }
   ],
   "source": [
    "print(failed_execution_arns)"
   ]
  },
  {
   "cell_type": "code",
   "execution_count": 9,
   "id": "fundamental-finger",
   "metadata": {},
   "outputs": [],
   "source": [
    "# failed_execution_arn = f'arn:aws:states:us-east-1:133240237239:execution:{state_machine_name}:{failed_execution_name}'\n",
    "with open(\"failed_executions_remaining.txt\", \"w\") as file:\n",
    "    for fea in failed_execution_arns:\n",
    "        file.write(fea + \"\\n\")"
   ]
  },
  {
   "cell_type": "code",
   "execution_count": 20,
   "id": "synthetic-malawi",
   "metadata": {},
   "outputs": [],
   "source": [
    "def parseFailureHistory(failedExecutionArn):\n",
    "    '''\n",
    "    Parses the execution history of a failed state machine to get the name of failed state and\n",
    "    the input to the failed state\n",
    "    Input failedExecutionArn - a string containing the execution Arn of a failed state machine\n",
    "    Output - a list with two elements: [name of failed state, input to failed state]\n",
    "    '''\n",
    "\n",
    "    failedEvents = list()\n",
    "    failedAtParallelState = False\n",
    "\n",
    "    try:\n",
    "        # Get the execution history\n",
    "        response = client.get_execution_history(\n",
    "            executionArn=failedExecutionArn,\n",
    "            reverseOrder=True\n",
    "        )\n",
    "        next_token = response.get('nextToken')\n",
    "        failedEvents.extend(response['events'])\n",
    "    except Exception as ex:\n",
    "        raise ex\n",
    "\n",
    "    while next_token is not None:\n",
    "        try:\n",
    "            # Get the execution history\n",
    "            response = client.get_execution_history(\n",
    "                executionArn=failedExecutionArn,\n",
    "                reverseOrder=True,\n",
    "                nextToken=next_token\n",
    "            )\n",
    "            next_token = response.get('nextToken')\n",
    "            failedEvents.extend(response['events'])\n",
    "        except Exception as ex:\n",
    "            raise ex\n",
    "\n",
    "    # Confirm that the execution actually failed, raise exception if it didn't fail\n",
    "    try:\n",
    "        failedEvents[0]['executionFailedEventDetails']\n",
    "    except:\n",
    "        raise ('Execution did not fail')\n",
    "    '''\n",
    "    If we have a 'States.Runtime' error (for example if a task state in our state \n",
    "    machine attempts to execute a lambda function in a different region than the \n",
    "    state machine, get the id of the failed state, use id of the failed state to\n",
    "    determine failed state name and input\n",
    "    '''\n",
    "    if failedEvents[0]['executionFailedEventDetails']['error'] == 'States.Runtime':\n",
    "        failedId = int(filter(str.isdigit, str(failedEvents[0]['executionFailedEventDetails']['cause'].split()[13])))\n",
    "        failedState = failedEvents[-1 * failedId]['stateEnteredEventDetails']['name']\n",
    "        failedInput = failedEvents[-1 * failedId]['stateEnteredEventDetails']['input']\n",
    "        return (failedState, failedInput)\n",
    "    '''\n",
    "    We need to loop through the execution history, tracing back the executed steps\n",
    "    The first state we encounter will be the failed state\n",
    "    If we failed on a parallel state, we need the name of the parallel state rather than the \n",
    "    name of a state within a parallel state it failed on. This is because we can only attach\n",
    "    the goToState to the parallel state, but not a sub-state within the parallel state.\n",
    "    This loop starts with the id of the latest event and uses the previous event id's to trace\n",
    "    back the execution to the beginning (id 0). However, it will return as soon it finds the name\n",
    "    of the failed state \n",
    "    '''\n",
    "    currentEventId = failedEvents[0]['id']\n",
    "    while currentEventId != 0:\n",
    "        # multiply event id by -1 for indexing because we're looking at the reversed history\n",
    "        currentEvent = failedEvents[-1 * currentEventId]\n",
    "        '''\n",
    "        We can determine if the failed state was a parallel state because it an event\n",
    "        with 'type'='ParallelStateFailed' will appear in the execution history before\n",
    "        the name of the failed state\n",
    "        '''\n",
    "        if currentEvent['type'] == 'ParallelStateFailed':\n",
    "            failedAtParallelState = True\n",
    "        '''\n",
    "        If the failed state is not a parallel state, then the name of failed state to return\n",
    "        will be the name of the state in the first 'TaskStateEntered' event type we run into \n",
    "        when tracing back the execution history\n",
    "        '''\n",
    "        if currentEvent['type'] == 'TaskStateEntered' and failedAtParallelState == False:\n",
    "            failedState = currentEvent['stateEnteredEventDetails']['name']\n",
    "            failedInput = currentEvent['stateEnteredEventDetails']['input']\n",
    "            return (failedState, failedInput)\n",
    "        '''\n",
    "        If the failed state was a paralell state, then we need to trace execution back to \n",
    "        the first event with 'type'='ParallelStateEntered', and return the name of the state\n",
    "        '''\n",
    "        if currentEvent['type'] == 'ParallelStateEntered' and failedAtParallelState:\n",
    "            failedState = currentEvent['stateEnteredEventDetails']['name']\n",
    "            failedInput = currentEvent['stateEnteredEventDetails']['input']\n",
    "            return (failedState, failedInput)\n",
    "        # Update the id for the next execution of the loop\n",
    "        currentEventId = currentEvent['previousEventId']"
   ]
  },
  {
   "cell_type": "code",
   "execution_count": 37,
   "id": "herbal-event",
   "metadata": {},
   "outputs": [
    {
     "name": "stdout",
     "output_type": "stream",
     "text": [
      "arn:aws:states:us-east-1:133240237239:execution:prod-incoming-lead-form-process:35bfa958-ef27-44bd-b7ed-25fc26b81304_205339 postLeadFormDataToLeadspedia 606-877-5842\n",
      "arn:aws:states:us-east-1:133240237239:execution:prod-incoming-lead-form-process:d1d33e08-67d8-4c9d-9926-06e190551963_205339 postLeadFormDataToLeadspedia 606-877-5842\n",
      "arn:aws:states:us-east-1:133240237239:execution:prod-incoming-lead-form-process:cccf3ada-2c9a-4599-aaa2-001c9ca10800_205317 postLeadFormDataToLeadspedia 606-877-5842\n",
      "arn:aws:states:us-east-1:133240237239:execution:prod-incoming-lead-form-process:1437f61c-5fbc-4340-bf48-2fc157d15770_205317 postLeadFormDataToLeadspedia 606-877-5842\n",
      "['arn:aws:states:us-east-1:133240237239:execution:prod-incoming-lead-form-process:35bfa958-ef27-44bd-b7ed-25fc26b81304_205339', 'arn:aws:states:us-east-1:133240237239:execution:prod-incoming-lead-form-process:d1d33e08-67d8-4c9d-9926-06e190551963_205339', 'arn:aws:states:us-east-1:133240237239:execution:prod-incoming-lead-form-process:cccf3ada-2c9a-4599-aaa2-001c9ca10800_205317', 'arn:aws:states:us-east-1:133240237239:execution:prod-incoming-lead-form-process:1437f61c-5fbc-4340-bf48-2fc157d15770_205317']\n"
     ]
    }
   ],
   "source": [
    "key_to_search = \"Phone\"\n",
    "value_to_search = \"606-877-5842\"\n",
    "list_to_rerun = []\n",
    "for failed_execution_arn in failed_execution_arns:\n",
    "    failedState, failedInput = parseFailureHistory(failed_execution_arn)\n",
    "    failedInputObj = json.loads(failedInput)\n",
    "    if failedInputObj.get(key_to_search, None) and value_to_search in failedInputObj.get(key_to_search):\n",
    "        print(failed_execution_arn, failedState, failedInputObj[key_to_search])\n",
    "        list_to_rerun.append(failed_execution_arn)\n",
    "        \n",
    "print(list_to_rerun)\n",
    "    "
   ]
  },
  {
   "cell_type": "code",
   "execution_count": 33,
   "id": "final-earth",
   "metadata": {},
   "outputs": [],
   "source": []
  },
  {
   "cell_type": "code",
   "execution_count": null,
   "id": "median-twist",
   "metadata": {},
   "outputs": [],
   "source": [
    "failed_response"
   ]
  },
  {
   "cell_type": "code",
   "execution_count": 15,
   "id": "pressing-nylon",
   "metadata": {},
   "outputs": [],
   "source": [
    "failedEvents = [] "
   ]
  },
  {
   "cell_type": "code",
   "execution_count": 55,
   "id": "collective-watch",
   "metadata": {},
   "outputs": [],
   "source": [
    "failedEvents.extend(failed_response['events'])"
   ]
  },
  {
   "cell_type": "code",
   "execution_count": 56,
   "id": "afraid-coverage",
   "metadata": {},
   "outputs": [
    {
     "data": {
      "text/plain": [
       "{'error': 'States.Timeout'}"
      ]
     },
     "execution_count": 56,
     "metadata": {},
     "output_type": "execute_result"
    }
   ],
   "source": [
    "failedEvents[0]['executionFailedEventDetails']"
   ]
  },
  {
   "cell_type": "code",
   "execution_count": 21,
   "id": "significant-legend",
   "metadata": {},
   "outputs": [
    {
     "name": "stdout",
     "output_type": "stream",
     "text": [
      "FinalFanout\n"
     ]
    }
   ],
   "source": [
    "currentEventId = failedEvents[0]['id']\n",
    "while currentEventId != 0:\n",
    "    # multiply event id by -1 for indexing because we're looking at the reversed history\n",
    "    currentEvent = failedEvents[-1 * currentEventId]\n",
    "    '''\n",
    "    We can determine if the failed state was a parallel state because it an event\n",
    "    with 'type'='ParallelStateFailed' will appear in the execution history before\n",
    "    the name of the failed state\n",
    "    '''\n",
    "    if currentEvent['type'] == 'ParallelStateFailed':\n",
    "        failedAtParallelState = True\n",
    "    '''\n",
    "    If the failed state is not a parallel state, then the name of failed state to return\n",
    "    will be the name of the state in the first 'TaskStateEntered' event type we run into \n",
    "    when tracing back the execution history\n",
    "    '''\n",
    "    if currentEvent['type'] == 'TaskStateEntered' and failedAtParallelState == False:\n",
    "        failedState = currentEvent['stateEnteredEventDetails']['name']\n",
    "        failedInput = currentEvent['stateEnteredEventDetails']['input']\n",
    "#         print (failedState, failedInput)\n",
    "        print (failedState)\n",
    "    '''\n",
    "    If the failed state was a paralell state, then we need to trace execution back to \n",
    "    the first event with 'type'='ParallelStateEntered', and return the name of the state\n",
    "    '''\n",
    "    if currentEvent['type'] == 'ParallelStateEntered' and failedAtParallelState:\n",
    "        failedState = failedState = currentEvent['stateEnteredEventDetails']['name']\n",
    "        failedInput = currentEvent['stateEnteredEventDetails']['input']\n",
    "#         print (failedState, failedInput)\n",
    "        print (failedState)\n",
    "    # Update the id for the next execution of the loop\n",
    "    currentEventId = currentEvent['previousEventId']"
   ]
  },
  {
   "cell_type": "code",
   "execution_count": null,
   "id": "second-region",
   "metadata": {},
   "outputs": [],
   "source": [
    "failedStateName = 'FinalFanout'\n",
    "failedInput"
   ]
  },
  {
   "cell_type": "code",
   "execution_count": 22,
   "id": "twelve-organic",
   "metadata": {},
   "outputs": [],
   "source": [
    "def smArnFromExecutionArn(arn):\n",
    "    '''\n",
    "    Get the State Machine Arn from the execution Arn\n",
    "    Input: Execution Arn of a state machine\n",
    "    Output: Arn of the state machine\n",
    "    '''\n",
    "    smArn = arn.split(':')[:-1]\n",
    "    smArn[5] = 'stateMachine'\n",
    "    return ':'.join(smArn)"
   ]
  },
  {
   "cell_type": "code",
   "execution_count": 60,
   "id": "understanding-worship",
   "metadata": {},
   "outputs": [
    {
     "data": {
      "text/plain": [
       "'arn:aws:states:us-east-1:133240237239:stateMachine:prod-incoming-leads-business-process'"
      ]
     },
     "execution_count": 60,
     "metadata": {},
     "output_type": "execute_result"
    }
   ],
   "source": [
    "smArn = smArnFromExecutionArn(failed_execution_arn)\n",
    "smArn"
   ]
  },
  {
   "cell_type": "code",
   "execution_count": 90,
   "id": "automotive-bishop",
   "metadata": {},
   "outputs": [],
   "source": [
    "response = client.describe_state_machine(\n",
    "            stateMachineArn=smArn\n",
    "        )"
   ]
  },
  {
   "cell_type": "code",
   "execution_count": 91,
   "id": "important-vacation",
   "metadata": {},
   "outputs": [
    {
     "data": {
      "text/plain": [
       "{'stateMachineArn': 'arn:aws:states:us-east-1:133240237239:stateMachine:prod-incoming-leads-business-process',\n",
       " 'name': 'prod-incoming-leads-business-process',\n",
       " 'status': 'ACTIVE',\n",
       " 'definition': '{\\n  \"Comment\": \"Business process flow for leads\",\\n  \"StartAt\": \"insertNonLeadFormDataInToDynamo\",\\n  \"States\": {\\n    \"insertNonLeadFormDataInToDynamo\": {\\n      \"Type\": \"Task\",\\n      \"Comment\": \"Insert all non lead form data into Dynamo DB\",\\n      \"Resource\": \"arn:aws:lambda:us-east-1:133240237239:function:integriant-leadintake-api-prod-allLeadDynamoInsert\",\\n      \"TimeoutSeconds\": 60,\\n      \"Retry\": [\\n        {\\n          \"ErrorEquals\": [\\n            \"HandledError\",\\n            \"States.TaskFailed\",\\n            \"Lambda.Unknown\"\\n          ],\\n          \"IntervalSeconds\": 10,\\n          \"MaxAttempts\": 2,\\n          \"BackoffRate\": 2\\n        },\\n        {\\n          \"ErrorEquals\": [\\n            \"States.ALL\"\\n          ],\\n          \"IntervalSeconds\": 5,\\n          \"MaxAttempts\": 2,\\n          \"BackoffRate\": 2\\n        }\\n      ],\\n      \"ResultPath\": null,\\n      \"Next\": \"enhanceAndCleanLeadData\"\\n    },\\n    \"enhanceAndCleanLeadData\": {\\n      \"Type\": \"Task\",\\n      \"Comment\": \"Clean up the data coming in, also add columns required for lead scoring and livevox also append infutor data\",\\n      \"Resource\": \"arn:aws:lambda:us-east-1:133240237239:function:integriant-leadintake-api-prod-enrichLeadData\",\\n      \"ResultPath\": \"$\",\\n      \"TimeoutSeconds\": 60,\\n      \"Retry\": [\\n        {\\n          \"ErrorEquals\": [\\n            \"HandledError\",\\n            \"States.TaskFailed\",\\n            \"Lambda.Unknown\"\\n          ],\\n          \"IntervalSeconds\": 10,\\n          \"MaxAttempts\": 2,\\n          \"BackoffRate\": 2\\n        },\\n        {\\n          \"ErrorEquals\": [\\n            \"States.ALL\"\\n          ],\\n          \"IntervalSeconds\": 5,\\n          \"MaxAttempts\": 2,\\n          \"BackoffRate\": 2\\n        }\\n      ],\\n      \"Next\": \"getTrustedFormData\"\\n    },\\n    \"getTrustedFormData\": {\\n      \"Type\": \"Task\",\\n      \"Comment\": \"Get trusted form data if the trustedform cert URL is populated\",\\n      \"Resource\": \"arn:aws:lambda:us-east-1:133240237239:function:integriant-leadintake-api-prod-trustedFormCertClaim\",\\n      \"ResultPath\": \"$\",\\n      \"TimeoutSeconds\": 60,\\n      \"Retry\": [\\n        {\\n          \"ErrorEquals\": [\\n            \"HandledError\",\\n            \"States.TaskFailed\",\\n            \"Lambda.Unknown\"\\n          ],\\n          \"IntervalSeconds\": 10,\\n          \"MaxAttempts\": 2,\\n          \"BackoffRate\": 2\\n        },\\n        {\\n          \"ErrorEquals\": [\\n            \"States.ALL\"\\n          ],\\n          \"IntervalSeconds\": 5,\\n          \"MaxAttempts\": 2,\\n          \"BackoffRate\": 2\\n        }\\n      ],\\n      \"Next\": \"scoreTheLead\"\\n    },\\n    \"scoreTheLead\": {\\n      \"Type\": \"Task\",\\n      \"Comment\": \"Apply lead scoring model to lead data\",\\n      \"Resource\": \"arn:aws:lambda:us-east-1:133240237239:function:integriant-leadintake-api-prod-scoreLeadData\",\\n      \"ResultPath\": \"$\",\\n      \"TimeoutSeconds\": 60,\\n      \"Retry\": [\\n        {\\n          \"ErrorEquals\": [\\n            \"HandledError\",\\n            \"States.TaskFailed\",\\n            \"Lambda.Unknown\"\\n          ],\\n          \"IntervalSeconds\": 10,\\n          \"MaxAttempts\": 2,\\n          \"BackoffRate\": 2\\n        },\\n        {\\n          \"ErrorEquals\": [\\n            \"States.ALL\"\\n          ],\\n          \"IntervalSeconds\": 5,\\n          \"MaxAttempts\": 2,\\n          \"BackoffRate\": 2\\n        }\\n      ],\\n      \"Next\": \"insertLeadDataIntoLivevox\"\\n    },\\n    \"insertLeadDataIntoLivevox\": {\\n      \"Type\": \"Task\",\\n      \"Comment\": \"Insert Lead data into Livevox Contact and Campaign\",\\n      \"Resource\": \"arn:aws:lambda:us-east-1:133240237239:function:integriant-leadintake-api-prod-insertIntoLiveVox\",\\n      \"ResultPath\": \"$\",\\n      \"TimeoutSeconds\": 60,\\n      \"Retry\": [\\n        {\\n          \"ErrorEquals\": [\\n            \"HandledError\",\\n            \"States.TaskFailed\",\\n            \"Lambda.Unknown\"\\n          ],\\n          \"IntervalSeconds\": 10,\\n          \"MaxAttempts\": 2,\\n          \"BackoffRate\": 2\\n        },\\n        {\\n          \"ErrorEquals\": [\\n            \"States.ALL\"\\n          ],\\n          \"IntervalSeconds\": 5,\\n          \"MaxAttempts\": 2,\\n          \"BackoffRate\": 2\\n        }\\n      ],\\n      \"Next\": \"FinalFanout\"\\n    },\\n    \"FinalFanout\": {\\n      \"Type\": \"Parallel\",\\n      \"End\": true,\\n      \"Branches\": [\\n        {\\n          \"StartAt\": \"insertLeadDataIntoZoho\",\\n          \"States\": {\\n            \"insertLeadDataIntoZoho\": {\\n              \"Type\": \"Task\",\\n              \"Comment\": \"Insert Lead data into Zoho Contacts\",\\n              \"Resource\": \"arn:aws:lambda:us-east-1:133240237239:function:integriant-leadintake-api-prod-upsertLeadIntoZoho\",\\n              \"ResultPath\": \"$\",\\n              \"TimeoutSeconds\": 60,\\n              \"Retry\": [\\n                {\\n                  \"ErrorEquals\": [\\n                    \"HandledError\",\\n                    \"States.TaskFailed\",\\n                    \"Lambda.Unknown\"\\n                  ],\\n                  \"IntervalSeconds\": 10,\\n                  \"MaxAttempts\": 2,\\n                  \"BackoffRate\": 2\\n                },\\n                {\\n                  \"ErrorEquals\": [\\n                    \"States.ALL\"\\n                  ],\\n                  \"IntervalSeconds\": 5,\\n                  \"MaxAttempts\": 2,\\n                  \"BackoffRate\": 2\\n                }\\n              ],\\n              \"End\": true\\n            }\\n          }\\n        },\\n        {\\n          \"StartAt\": \"insertFinalLeadDataInToDynamo\",\\n          \"States\": {\\n            \"insertFinalLeadDataInToDynamo\": {\\n              \"Type\": \"Task\",\\n              \"Comment\": \"Insert all final lead data into Dynamo DB\",\\n              \"Resource\": \"arn:aws:lambda:us-east-1:133240237239:function:integriant-leadintake-api-prod-allLeadFinalDynamoInsert\",\\n              \"TimeoutSeconds\": 60,\\n              \"Retry\": [\\n                {\\n                  \"ErrorEquals\": [\\n                    \"HandledError\",\\n                    \"States.TaskFailed\",\\n                    \"Lambda.Unknown\"\\n                  ],\\n                  \"IntervalSeconds\": 10,\\n                  \"MaxAttempts\": 2,\\n                  \"BackoffRate\": 2\\n                },\\n                {\\n                  \"ErrorEquals\": [\\n                    \"States.ALL\"\\n                  ],\\n                  \"IntervalSeconds\": 5,\\n                  \"MaxAttempts\": 2,\\n                  \"BackoffRate\": 2\\n                }\\n              ],\\n              \"End\": true\\n            }\\n          }\\n        }\\n      ]\\n    }\\n  }\\n}',\n",
       " 'roleArn': 'arn:aws:iam::133240237239:role/integriant-leadintake-api-ProdDashincomingDashlead-76S59EEH4L0K',\n",
       " 'type': 'STANDARD',\n",
       " 'creationDate': datetime.datetime(2020, 4, 20, 19, 29, 35, 213000, tzinfo=tzlocal()),\n",
       " 'loggingConfiguration': {'level': 'OFF', 'includeExecutionData': False},\n",
       " 'tracingConfiguration': {'enabled': False},\n",
       " 'ResponseMetadata': {'RequestId': 'd3ac9906-f410-4cba-beea-ca05400f0541',\n",
       "  'HTTPStatusCode': 200,\n",
       "  'HTTPHeaders': {'x-amzn-requestid': 'd3ac9906-f410-4cba-beea-ca05400f0541',\n",
       "   'content-type': 'application/x-amz-json-1.0',\n",
       "   'content-length': '7428'},\n",
       "  'RetryAttempts': 0}}"
      ]
     },
     "execution_count": 91,
     "metadata": {},
     "output_type": "execute_result"
    }
   ],
   "source": [
    "response"
   ]
  },
  {
   "cell_type": "code",
   "execution_count": 92,
   "id": "angry-incidence",
   "metadata": {},
   "outputs": [],
   "source": [
    "from datetime import datetime\n",
    "now_str = datetime.now().strftime(\"%Y%m%d\")"
   ]
  },
  {
   "cell_type": "code",
   "execution_count": 93,
   "id": "simple-comparison",
   "metadata": {},
   "outputs": [
    {
     "name": "stdout",
     "output_type": "stream",
     "text": [
      "{'stateMachineArn': 'arn:aws:states:us-east-1:133240237239:stateMachine:ce001005-a92a-44c2-abd6-a968d222f78e_152106-FR-20210526', 'creationDate': datetime.datetime(2021, 5, 26, 10, 55, 37, 877000, tzinfo=tzlocal()), 'ResponseMetadata': {'RequestId': '7d32ad0e-e768-467e-bbe4-1383dcc1fc05', 'HTTPStatusCode': 200, 'HTTPHeaders': {'x-amzn-requestid': '7d32ad0e-e768-467e-bbe4-1383dcc1fc05', 'content-type': 'application/x-amz-json-1.0', 'content-length': '160'}, 'RetryAttempts': 0}}\n"
     ]
    }
   ],
   "source": [
    "import json\n",
    "\n",
    "roleArn = response['roleArn']\n",
    "stateMachine = json.loads(response['definition'])\n",
    "# Create a name for the new state machine\n",
    "newName = failed_execution_name + '-FR-' + now_str\n",
    "# Get the StartAt state for the original state machine, because we will point the 'GoToState' to this state\n",
    "originalStartAt = stateMachine['StartAt']\n",
    "'''\n",
    "Create the GoToState with the variable $.resuming\n",
    "If new state machine is executed with $.resuming = True, then the state machine will skip to the failed state\n",
    "Otherwise, it will execute the state machine from the original start state\n",
    "'''\n",
    "goToState = {'Type': 'Choice',\n",
    "             'Choices': [{'Variable': '$.resuming', 'BooleanEquals': False, 'Next': originalStartAt}],\n",
    "             'Default': failedStateName}\n",
    "# Add GoToState to the set of states in the new state machine\n",
    "stateMachine['States']['GoToState'] = goToState\n",
    "# Add StartAt\n",
    "stateMachine['StartAt'] = 'GoToState'\n",
    "# Create new state machine\n",
    "try:\n",
    "    response = client.create_state_machine(\n",
    "        name=newName,\n",
    "        definition=json.dumps(stateMachine),\n",
    "        roleArn=roleArn\n",
    "    )\n",
    "except:\n",
    "    raise ('Failed to create new state machine with GoToState')\n",
    "print (response)"
   ]
  },
  {
   "cell_type": "code",
   "execution_count": 40,
   "id": "selective-houston",
   "metadata": {},
   "outputs": [
    {
     "data": {
      "text/plain": [
       "'ce001005-a92a-44c2-abd6-a968d222f78e_152106'"
      ]
     },
     "execution_count": 40,
     "metadata": {},
     "output_type": "execute_result"
    }
   ],
   "source": [
    "failed_execution_name"
   ]
  },
  {
   "cell_type": "code",
   "execution_count": 106,
   "id": "rocky-variation",
   "metadata": {},
   "outputs": [],
   "source": [
    "new_statemachine_arn = 'arn:aws:states:us-east-1:133240237239:stateMachine:ce001005-a92a-44c2-abd6-a968d222f78e_152106-FR-20210526'"
   ]
  },
  {
   "cell_type": "code",
   "execution_count": 76,
   "id": "sharp-matrix",
   "metadata": {},
   "outputs": [],
   "source": [
    "failed_input = json.loads(failedInput)"
   ]
  },
  {
   "cell_type": "code",
   "execution_count": null,
   "id": "lovely-volunteer",
   "metadata": {},
   "outputs": [],
   "source": [
    "json.dumps(failed_input)"
   ]
  },
  {
   "cell_type": "code",
   "execution_count": 104,
   "id": "geological-ridge",
   "metadata": {},
   "outputs": [
    {
     "ename": "KeyError",
     "evalue": "'stateMachineArn'",
     "output_type": "error",
     "traceback": [
      "\u001b[0;31m---------------------------------------------------------------------------\u001b[0m",
      "\u001b[0;31mKeyError\u001b[0m                                  Traceback (most recent call last)",
      "\u001b[0;32m<ipython-input-104-e857941bd164>\u001b[0m in \u001b[0;36m<module>\u001b[0;34m\u001b[0m\n\u001b[0;32m----> 1\u001b[0;31m \u001b[0mresponse\u001b[0m\u001b[0;34m[\u001b[0m\u001b[0;34m\"stateMachineArn\"\u001b[0m\u001b[0;34m]\u001b[0m\u001b[0;34m\u001b[0m\u001b[0;34m\u001b[0m\u001b[0m\n\u001b[0m",
      "\u001b[0;31mKeyError\u001b[0m: 'stateMachineArn'"
     ]
    }
   ],
   "source": [
    "response[\"stateMachineArn\"]"
   ]
  },
  {
   "cell_type": "code",
   "execution_count": 105,
   "id": "smaller-tuesday",
   "metadata": {},
   "outputs": [
    {
     "ename": "KeyError",
     "evalue": "'stateMachineArn'",
     "output_type": "error",
     "traceback": [
      "\u001b[0;31m---------------------------------------------------------------------------\u001b[0m",
      "\u001b[0;31mKeyError\u001b[0m                                  Traceback (most recent call last)",
      "\u001b[0;32m<ipython-input-105-458538847e08>\u001b[0m in \u001b[0;36m<module>\u001b[0;34m\u001b[0m\n\u001b[1;32m      1\u001b[0m new_sm_name = client.describe_state_machine(\n\u001b[0;32m----> 2\u001b[0;31m             \u001b[0mstateMachineArn\u001b[0m\u001b[0;34m=\u001b[0m\u001b[0mresponse\u001b[0m\u001b[0;34m[\u001b[0m\u001b[0;34m\"stateMachineArn\"\u001b[0m\u001b[0;34m]\u001b[0m\u001b[0;34m\u001b[0m\u001b[0;34m\u001b[0m\u001b[0m\n\u001b[0m\u001b[1;32m      3\u001b[0m         )[\"name\"]\n",
      "\u001b[0;31mKeyError\u001b[0m: 'stateMachineArn'"
     ]
    }
   ],
   "source": [
    "new_sm_name = stateMachineArn=response[\"stateMachineArn\"].split(\":\")[-1]"
   ]
  },
  {
   "cell_type": "code",
   "execution_count": 102,
   "id": "unknown-carpet",
   "metadata": {},
   "outputs": [],
   "source": [
    "failed_input[\"resuming\"] = True"
   ]
  },
  {
   "cell_type": "code",
   "execution_count": 100,
   "id": "adjacent-creature",
   "metadata": {},
   "outputs": [
    {
     "data": {
      "text/plain": [
       "'ce001005-a92a-44c2-abd6-a968d222f78e_152106-FR-20210526'"
      ]
     },
     "execution_count": 100,
     "metadata": {},
     "output_type": "execute_result"
    }
   ],
   "source": [
    "new_sm_arn"
   ]
  },
  {
   "cell_type": "code",
   "execution_count": 107,
   "id": "discrete-installation",
   "metadata": {},
   "outputs": [],
   "source": [
    "response = client.start_execution(\n",
    "    stateMachineArn=new_statemachine_arn,\n",
    "    name=new_sm_arn + \"-\" +  datetime.now().strftime(\"%H%M%S\"),\n",
    "    input=json.dumps(failed_input)\n",
    ")"
   ]
  },
  {
   "cell_type": "code",
   "execution_count": 109,
   "id": "descending-spare",
   "metadata": {},
   "outputs": [
    {
     "name": "stdout",
     "output_type": "stream",
     "text": [
      "{'ResponseMetadata': {'RequestId': '3095eedd-ae83-4098-a8c3-d0c183eb73fe', 'HTTPStatusCode': 200, 'HTTPHeaders': {'x-amzn-requestid': '3095eedd-ae83-4098-a8c3-d0c183eb73fe', 'content-type': 'application/x-amz-json-1.0', 'content-length': '2'}, 'RetryAttempts': 0}}\n"
     ]
    }
   ],
   "source": [
    "try:\n",
    "    response = client.delete_state_machine(\n",
    "        stateMachineArn=new_statemachine_arn\n",
    "    )\n",
    "except:\n",
    "    raise ('Failed to create new state machine with GoToState')\n",
    "print (response)"
   ]
  },
  {
   "cell_type": "code",
   "execution_count": 110,
   "id": "regulation-dispute",
   "metadata": {},
   "outputs": [],
   "source": [
    "exec_arn = \"arn:aws:states:us-east-1:133240237239:execution:ce001005-a92a-44c2-abd6-a968d222f78e_152106-FR-20210526:ce001005-a92a-44c2-abd6-a968d222f78e_152106-FR-20210526-110334\""
   ]
  },
  {
   "cell_type": "code",
   "execution_count": 115,
   "id": "designing-snake",
   "metadata": {},
   "outputs": [
    {
     "data": {
      "text/plain": [
       "'ce001005-a92a-44c2-abd6-a968d222f78e_152106-FR-20210526'"
      ]
     },
     "execution_count": 115,
     "metadata": {},
     "output_type": "execute_result"
    }
   ],
   "source": [
    "exec_arn.split(\":\")[-2]"
   ]
  }
 ],
 "metadata": {
  "kernelspec": {
   "display_name": "Python [conda env:stepfunction-rerun]",
   "language": "python",
   "name": "conda-env-stepfunction-rerun-py"
  },
  "language_info": {
   "codemirror_mode": {
    "name": "ipython",
    "version": 3
   },
   "file_extension": ".py",
   "mimetype": "text/x-python",
   "name": "python",
   "nbconvert_exporter": "python",
   "pygments_lexer": "ipython3",
   "version": "3.8.10"
  }
 },
 "nbformat": 4,
 "nbformat_minor": 5
}
