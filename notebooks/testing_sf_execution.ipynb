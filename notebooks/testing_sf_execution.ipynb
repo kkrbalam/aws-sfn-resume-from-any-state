{
 "cells": [
  {
   "cell_type": "code",
   "execution_count": 3,
   "id": "spatial-bonus",
   "metadata": {},
   "outputs": [],
   "source": [
    "import boto3"
   ]
  },
  {
   "cell_type": "code",
   "execution_count": 2,
   "id": "burning-polyester",
   "metadata": {},
   "outputs": [],
   "source": [
    "region = 'us-east-1'"
   ]
  },
  {
   "cell_type": "code",
   "execution_count": 7,
   "id": "varying-career",
   "metadata": {},
   "outputs": [],
   "source": [
    "client = boto3.client('stepfunctions', region_name = region)"
   ]
  },
  {
   "cell_type": "code",
   "execution_count": 38,
   "id": "imperial-separation",
   "metadata": {},
   "outputs": [],
   "source": [
    "failed_execution_name = 'ce001005-a92a-44c2-abd6-a968d222f78e_152106'\n",
    "state_machine_name = 'prod-incoming-leads-business-process'"
   ]
  },
  {
   "cell_type": "code",
   "execution_count": 39,
   "id": "complimentary-saver",
   "metadata": {},
   "outputs": [],
   "source": [
    "failed_execution_arn = f'arn:aws:states:us-east-1:133240237239:execution:{state_machine_name}:{failed_execution_name}'"
   ]
  },
  {
   "cell_type": "code",
   "execution_count": 33,
   "id": "undefined-agriculture",
   "metadata": {},
   "outputs": [],
   "source": [
    "failed_response = client.get_execution_history(\n",
    "            executionArn=failed_execution_arn,\n",
    "            reverseOrder=True\n",
    "        )"
   ]
  },
  {
   "cell_type": "code",
   "execution_count": null,
   "id": "reduced-dating",
   "metadata": {},
   "outputs": [],
   "source": [
    "failed_response"
   ]
  },
  {
   "cell_type": "code",
   "execution_count": 15,
   "id": "numerical-fence",
   "metadata": {},
   "outputs": [],
   "source": [
    "failedEvents = [] "
   ]
  },
  {
   "cell_type": "code",
   "execution_count": 55,
   "id": "absolute-governor",
   "metadata": {},
   "outputs": [],
   "source": [
    "failedEvents.extend(failed_response['events'])"
   ]
  },
  {
   "cell_type": "code",
   "execution_count": 56,
   "id": "painted-juvenile",
   "metadata": {},
   "outputs": [
    {
     "data": {
      "text/plain": [
       "{'error': 'States.Timeout'}"
      ]
     },
     "execution_count": 56,
     "metadata": {},
     "output_type": "execute_result"
    }
   ],
   "source": [
    "failedEvents[0]['executionFailedEventDetails']"
   ]
  },
  {
   "cell_type": "code",
   "execution_count": 21,
   "id": "surrounded-evolution",
   "metadata": {},
   "outputs": [
    {
     "name": "stdout",
     "output_type": "stream",
     "text": [
      "FinalFanout\n"
     ]
    }
   ],
   "source": [
    "currentEventId = failedEvents[0]['id']\n",
    "while currentEventId != 0:\n",
    "    # multiply event id by -1 for indexing because we're looking at the reversed history\n",
    "    currentEvent = failedEvents[-1 * currentEventId]\n",
    "    '''\n",
    "    We can determine if the failed state was a parallel state because it an event\n",
    "    with 'type'='ParallelStateFailed' will appear in the execution history before\n",
    "    the name of the failed state\n",
    "    '''\n",
    "    if currentEvent['type'] == 'ParallelStateFailed':\n",
    "        failedAtParallelState = True\n",
    "    '''\n",
    "    If the failed state is not a parallel state, then the name of failed state to return\n",
    "    will be the name of the state in the first 'TaskStateEntered' event type we run into \n",
    "    when tracing back the execution history\n",
    "    '''\n",
    "    if currentEvent['type'] == 'TaskStateEntered' and failedAtParallelState == False:\n",
    "        failedState = currentEvent['stateEnteredEventDetails']['name']\n",
    "        failedInput = currentEvent['stateEnteredEventDetails']['input']\n",
    "#         print (failedState, failedInput)\n",
    "        print (failedState)\n",
    "    '''\n",
    "    If the failed state was a paralell state, then we need to trace execution back to \n",
    "    the first event with 'type'='ParallelStateEntered', and return the name of the state\n",
    "    '''\n",
    "    if currentEvent['type'] == 'ParallelStateEntered' and failedAtParallelState:\n",
    "        failedState = failedState = currentEvent['stateEnteredEventDetails']['name']\n",
    "        failedInput = currentEvent['stateEnteredEventDetails']['input']\n",
    "#         print (failedState, failedInput)\n",
    "        print (failedState)\n",
    "    # Update the id for the next execution of the loop\n",
    "    currentEventId = currentEvent['previousEventId']"
   ]
  },
  {
   "cell_type": "code",
   "execution_count": 57,
   "id": "authorized-electron",
   "metadata": {},
   "outputs": [
    {
     "data": {
      "text/plain": [
       "'{\"Policy\": \"No\", \"Gender\": \"Female\", \"FirstName\": \"Nora\", \"LastName\": \"Boswell\", \"EmailAddress\": \"Bcozymain@gmail.com\", \"DateOfBirth\": \"1948-03-01 00:00:00\", \"DateOfBirthMilliSec\": -689105340000, \"Age\": \"73\", \"Address\": \"\", \"Address2\": \"\", \"State\": \"California\", \"StateCode\": \"CA\", \"City\": \"Ventura\", \"ZipCode\": \"93001\", \"Phone\": 8057463713, \"Height\": \"61\", \"Weight\": \"110\", \"MedicalConditions\": \"I have no medical conditions\", \"Employed\": \"Unemployed\", \"AmountInsuranceCoverage\": \"$100,000\", \"Children\": \"Yes\", \"ChildrenAge\": \"33\", \"InterestedInInsurance\": \"Cover end of life expenses,Leave money for my children\", \"Smoker\": \"No\", \"SmokeOption\": \"\", \"NicotineFrequency\": \"\", \"MaritalStatus\": \"Widowed\", \"JornayaLeadID\": \"RJHMXO2X-GXVW-JIKE-3HDA-LXPXUQONU2S5\", \"LeadspediaLeadID\": \"SZUNISZI\", \"VerticalName\": \"Life Insurance\", \"OfferName\": \"Life Insurance Leads Distribution\", \"AffliateName\": \"Integriant\", \"CampaignName\": \"Integriant Life Insurance\", \"AdvertiserName\": \"Integriant\", \"ContractName\": \"Integriant - Life Insurance Leads\", \"LPLeadCreatedDate\": \"2021-05-25\", \"LPLeadCreatedTime\": \"15:21:05\", \"LPLeadCreatedDateTime\": \"2021-05-25 15:21:05\", \"LPTestFlag\": \"false\", \"LeadSource\": \"AdNet\", \"CampaignID\": \"WebForm\", \"Product\": \"Life\", \"SubProduct\": \"Term Life\", \"Brand\": \"Mayberry\", \"LeadCategory\": \"HI\", \"OriginalLeadDate\": \"2021-05-25 19:20:49\", \"Phone1SMS\": \"true\", \"EmailConsent\": \"true\", \"Vendor\": \"Organic\", \"DreamVacation\": \"\", \"UtmCampaign\": \"\", \"UtmMedium\": \"\", \"UtmSource\": \"0B4\", \"UtmTerm\": \"\", \"TrustedFormCertId\": \"ebcbfd4f7b27ec8bfede217024b30ddc1d96cb98\", \"TrustedFormCertUrl\": \"https://cert.trustedform.com/ebcbfd4f7b27ec8bfede217024b30ddc1d96cb98\", \"SubAffiliate1\": \"\", \"SubAffiliate2\": \"p3AEmv4fValMNbfPheEKHonyY\", \"SubAffiliate3\": \"\", \"SubAffiliate4\": \"\", \"Carrier\": \"\", \"PlanType\": \"\", \"MonthlyPremium\": \"\", \"integriant_lead_id\": \"ce001005-a92a-44c2-abd6-a968d222f78e\", \"integriant_insert_timestamp\": \"1621970466\", \"infutor\": {\"request_params\": {\"FName\": \"Nora\", \"LName\": \"Boswell\", \"City\": \"Ventura\", \"State\": \"California\", \"Zip\": \"93001\", \"Phone\": 8057463713, \"Email\": \"Bcozymain@gmail.com\"}, \"response\": {\"Raw_PhoneOwnerIDValidation_Category\": \"P\", \"Raw_PhoneOwnerIDValidation_MatchCode\": \"\", \"Raw_PhoneOwnerIDValidation_PrePaid\": \"N\", \"Raw_PhoneOwnerIDValidation_Name_CNAM\": \"\", \"Raw_PhoneOwnerIDValidation_Name_FName\": \"SAMUEL\", \"Raw_PhoneOwnerIDValidation_Name_LName\": \"BORRELLI\", \"Raw_PhoneOwnerIDValidation_Name_MName\": \"\", \"Raw_PhoneOwnerIDValidation_Name_BusName\": \"\", \"Raw_PhoneOwnerIDValidation_Address_House\": \"1021\", \"Raw_PhoneOwnerIDValidation_Address_PreDir\": \"\", \"Raw_PhoneOwnerIDValidation_Address_Street\": \"SCANDIA\", \"Raw_PhoneOwnerIDValidation_Address_StrType\": \"AVE\", \"Raw_PhoneOwnerIDValidation_Address_PostDir\": \"\", \"Raw_PhoneOwnerIDValidation_Address_AptType\": \"\", \"Raw_PhoneOwnerIDValidation_Address_AptNbr\": \"\", \"Raw_PhoneOwnerIDValidation_Address_City\": \"VENTURA\", \"Raw_PhoneOwnerIDValidation_Address_State\": \"CA\", \"Raw_PhoneOwnerIDValidation_Address_Zip\": \"93004\", \"Raw_PhoneOwnerIDValidation_Address_Z4\": \"2473\", \"Raw_PhoneOwnerIDValidation_Address_DPC\": \"990\", \"Raw_PhoneOwnerIDValidation_Address_CRTE\": \"C045\", \"Raw_PhoneOwnerIDValidation_Address_CNTY\": \"111\", \"Raw_PhoneOwnerIDValidation_Address_Z4Type\": \"H\", \"Raw_PhoneOwnerIDValidation_Address_DPV\": \"D\", \"Raw_PhoneOwnerIDValidation_Address_Deliverable\": \"Y\", \"Raw_PhoneOwnerIDValidation_Address_ValDate\": \"202012\", \"Raw_PhoneOwnerIDValidation_Phone_Phone\": \"8057463713\", \"Raw_PhoneOwnerIDValidation_Phone_PhoneType\": \"W\", \"Raw_PhoneOwnerIDValidation_Phone_DID\": \"\", \"Raw_PhoneOwnerIDValidation_Phone_RecType\": \"R\", \"Raw_PhoneOwnerIDValidation_Phone_IDate\": \"\", \"Raw_PhoneOwnerIDValidation_Phone_ODate\": \"\", \"Raw_PhoneOwnerIDValidation_Phone_TelcoName\": \"T-MOBILE USA, INC.\", \"Raw_PhoneOwnerIDValidation_Phone_PHV\": \"4\", \"Raw_PhoneOwnerIDValidation_Phone_DACode\": \"\", \"Raw_PhoneOwnerIDValidation_Phone_TZ\": \"4\", \"Raw_PhoneOwnerIDValidation_Phone_DSO\": \"1\", \"Raw_REA_Category\": \"NE\", \"Raw_REA_Name_FName\": \"NORA\", \"Raw_REA_Name_LName\": \"BOSWELL\", \"Raw_REA_Name_MName\": \"\", \"Raw_REA_Name_BusName\": \"\", \"Raw_REA_Address_House\": \"539\", \"Raw_REA_Address_PreDir\": \"\", \"Raw_REA_Address_Street\": \"PO BOX\", \"Raw_REA_Address_StrType\": \"\", \"Raw_REA_Address_PostDir\": \"\", \"Raw_REA_Address_AptType\": \"\", \"Raw_REA_Address_AptNbr\": \"\", \"Raw_REA_Address_City\": \"VENTURA\", \"Raw_REA_Address_State\": \"CA\", \"Raw_REA_Address_Zip\": \"93002\", \"Raw_REA_Address_Z4\": \"0539\", \"Raw_REA_Address_DPC\": \"397\", \"Raw_REA_Address_CRTE\": \"B005\", \"Raw_REA_Address_CNTY\": \"111\", \"Raw_REA_Address_Z4Type\": \"P\", \"Raw_REA_Address_DPV\": \"Y\", \"Raw_REA_Address_Deliverable\": \"Y\", \"Raw_REA_Address_ValDate\": \"20191219\", \"Raw_REA_Phone_Phone\": \"\", \"Raw_REA_Phone_Phone2\": \"\", \"Raw_REA_Phone_PhoneType\": \"\", \"Raw_REA_Phone_DID\": \"\", \"Raw_REA_Phone_RecType\": \"R\", \"Raw_REA_Phone_IDate\": \"20191219\", \"Raw_REA_Phone_ODate\": \"20191219\", \"Raw_REA_Phone_TelcoName\": \"\", \"Raw_REA_Phone_PHV\": \"\", \"Raw_REA_Phone_DACode\": \"\", \"Raw_REA_Email\": \"bcozymain@gmail.com\", \"Raw_REA_Suppression\": \"N\", \"Raw_INRICHMENT_Name_Name\": \"\", \"Raw_INRICHMENT_Name_Prefix\": \"\", \"Raw_INRICHMENT_Name_FName\": \"\", \"Raw_INRICHMENT_Name_LName\": \"\", \"Raw_INRICHMENT_Name_MName\": \"\", \"Raw_INRICHMENT_Name_Suffix\": \"\", \"Raw_INRICHMENT_Address_House\": \"\", \"Raw_INRICHMENT_Address_PreDir\": \"\", \"Raw_INRICHMENT_Address_Street\": \"\", \"Raw_INRICHMENT_Address_StrType\": \"\", \"Raw_INRICHMENT_Address_PostDir\": \"\", \"Raw_INRICHMENT_Address_AptType\": \"\", \"Raw_INRICHMENT_Address_AptNbr\": \"\", \"Raw_INRICHMENT_Address_Address\": \"\", \"Raw_INRICHMENT_Address_City\": \"\", \"Raw_INRICHMENT_Address_State\": \"\", \"Raw_INRICHMENT_Address_Zip\": \"\", \"Raw_INRICHMENT_Address_Z4\": \"\", \"Raw_INRICHMENT_Address_DPC\": \"\", \"Raw_INRICHMENT_Address_DwellingType\": \"\", \"Raw_INRICHMENT_Address_CRTE\": \"\", \"Raw_INRICHMENT_Address_DPV\": \"\", \"Raw_INRICHMENT_Address_DPVCMRA\": \"\", \"Raw_INRICHMENT_Address_DPVFoot\": \"\", \"Raw_INRICHMENT_Address_ClientDeliveryScore\": \"\", \"Raw_INRICHMENT_Address_OriginalDPV\": \"\", \"Raw_INRICHMENT_Address_OriginalDPVCMRA\": \"\", \"Raw_INRICHMENT_Address_OriginalDPVFoot\": \"\", \"Raw_INRICHMENT_Address_OriginalDeliveryScore\": \"\", \"Raw_INRICHMENT_Address_AddressImprovementCode\": \"\", \"Raw_INRICHMENT_Address_InrichmentDwellingType\": \"\", \"Raw_INRICHMENT_Address_AddressID\": \"\", \"Raw_INRICHMENT_Address_HouseholdID\": \"\", \"Raw_INRICHMENT_Address_RecencyInd\": \"\", \"Raw_INRICHMENT_Address_EffDate\": \"\", \"Raw_INRICHMENT_PID\": \"\", \"Raw_PhoneOwnerIDValidation2_Category\": \"\", \"Raw_PhoneOwnerIDValidation2_MatchCode\": \"\", \"Raw_PhoneOwnerIDValidation2_Name_FName\": \"\", \"Raw_PhoneOwnerIDValidation2_Name_LName\": \"\", \"Raw_PhoneOwnerIDValidation2_Name_MName\": \"\", \"Raw_PhoneOwnerIDValidation2_Name_BusName\": \"\", \"Raw_PhoneOwnerIDValidation2_Address_House\": \"\", \"Raw_PhoneOwnerIDValidation2_Address_PreDir\": \"\", \"Raw_PhoneOwnerIDValidation2_Address_Street\": \"\", \"Raw_PhoneOwnerIDValidation2_Address_StrType\": \"\", \"Raw_PhoneOwnerIDValidation2_Address_PostDir\": \"\", \"Raw_PhoneOwnerIDValidation2_Address_AptType\": \"\", \"Raw_PhoneOwnerIDValidation2_Address_AptNbr\": \"\", \"Raw_PhoneOwnerIDValidation2_Address_City\": \"\", \"Raw_PhoneOwnerIDValidation2_Address_State\": \"\", \"Raw_PhoneOwnerIDValidation2_Address_Zip\": \"\", \"Raw_PhoneOwnerIDValidation2_Phone_Phone\": \"\", \"Raw_PhoneOwnerIDValidation2_Phone_PhoneType\": \"\", \"Raw_PhoneOwnerIDValidation2_Phone_RecType\": \"\", \"Raw_PhoneOwnerIDValidation2_Phone_PHV\": \"\", \"Raw_REA2_Category\": \"\", \"Raw_REA2_Name_FName\": \"\", \"Raw_REA2_Name_LName\": \"\", \"Raw_REA2_Name_MName\": \"\", \"Raw_REA2_Name_BusName\": \"\", \"Raw_REA2_Address_House\": \"\", \"Raw_REA2_Address_PreDir\": \"\", \"Raw_REA2_Address_Street\": \"\", \"Raw_REA2_Address_StrType\": \"\", \"Raw_REA2_Address_PostDir\": \"\", \"Raw_REA2_Address_AptType\": \"\", \"Raw_REA2_Address_AptNbr\": \"\", \"Raw_REA2_Address_City\": \"\", \"Raw_REA2_Address_State\": \"\", \"Raw_REA2_Address_Zip\": \"\", \"Raw_REA2_Phone_Phone\": \"\", \"Raw_REA2_Email\": \"\", \"Raw_REA2_Suppression\": \"\", \"Identity_Name_FName\": \"NORA\", \"Identity_Name_LName\": \"BOSWELL\", \"Identity_Name_MName\": \"\", \"Identity_Name_BusName\": \"\", \"Identity_Address_House\": \"539\", \"Identity_Address_PreDir\": \"\", \"Identity_Address_Street\": \"PO BOX\", \"Identity_Address_StrType\": \"\", \"Identity_Address_PostDir\": \"\", \"Identity_Address_AptType\": \"\", \"Identity_Address_AptNbr\": \"\", \"Identity_Address_City\": \"VENTURA\", \"Identity_Address_State\": \"CA\", \"Identity_Address_Zip\": \"93002\", \"Identity_Address_Z4\": \"0539\", \"Identity_Address_DPC\": \"397\", \"Identity_Address_CRTE\": \"B005\", \"Identity_Address_CNTY\": \"111\", \"Identity_Address_Z4Type\": \"P\", \"Identity_Address_DPV\": \"Y\", \"Identity_Address_Deliverable\": \"Y\", \"Identity_Address_ValDate\": \"20191219\", \"Identity_Phones_Phone_Phone\": \"8056411917\", \"Identity_Phones_Phone_PhoneType\": \"L\", \"Identity_Phones_Phone_DID\": \"\", \"Identity_Phones_Phone_RecType\": \"R\", \"Identity_Phones_Phone_IDate\": \"20100501\", \"Identity_Phones_Phone_ODate\": \"20100501\", \"Identity_Phones_Phone_TelcoName\": \"PACIFIC BELL\", \"Identity_Phones_Phone_PHV\": \"5\", \"Identity_Phones_Phone_DACode\": \"D\", \"Identity_Phones_Phone_Score\": \"200\", \"Identity_Phones_Phone_Category\": \"H\", \"Identity_Phones_Phone2_Phone\": \"8056493328\", \"Identity_Phones_Phone2_PhoneType\": \"L\", \"Identity_Phones_Phone2_DID\": \"\", \"Identity_Phones_Phone2_RecType\": \"R\", \"Identity_Phones_Phone2_IDate\": \"20060807\", \"Identity_Phones_Phone2_ODate\": \"20060807\", \"Identity_Phones_Phone2_TelcoName\": \"PACIFIC BELL\", \"Identity_Phones_Phone2_PHV\": \"5\", \"Identity_Phones_Phone2_DACode\": \"D\", \"Identity_Phones_Phone2_Score\": \"200\", \"Identity_Phones_Phone2_Category\": \"H\", \"Identity_Phones_Phone3_Phone\": \"\", \"Identity_Phones_Phone3_PhoneType\": \"\", \"Identity_Phones_Phone3_DID\": \"\", \"Identity_Phones_Phone3_RecType\": \"\", \"Identity_Phones_Phone3_IDate\": \"\", \"Identity_Phones_Phone3_ODate\": \"\", \"Identity_Phones_Phone3_TelcoName\": \"\", \"Identity_Phones_Phone3_PHV\": \"\", \"Identity_Phones_Phone3_DACode\": \"\", \"Identity_Phones_Phone3_Score\": \"\", \"Identity_Phones_Phone3_Category\": \"\", \"Identity_Emails_Email_Email\": \"noraboswell@earthlink.net\", \"Identity_Emails_Email_Suppression\": \"N\", \"Identity_Emails_Email_Score\": \"100\", \"Identity_Emails_Email_Category\": \"I\", \"Identity_Emails_Email_Url\": \"MYCHAT.COM\", \"Identity_Emails_Email_ODate\": \"20140107\", \"Identity_Emails_Email2_Email\": \"\", \"Identity_Emails_Email2_Suppression\": \"\", \"Identity_Emails_Email2_Score\": \"\", \"Identity_Emails_Email2_Category\": \"\", \"Identity_Emails_Email2_Url\": \"\", \"Identity_Emails_Email2_ODate\": \"\", \"Identity_Emails_Email3_Email\": \"\", \"Identity_Emails_Email3_Suppression\": \"\", \"Identity_Emails_Email3_Score\": \"\", \"Identity_Emails_Email3_Category\": \"\", \"Identity_Emails_Email3_Url\": \"\", \"Identity_Emails_Email3_ODate\": \"\", \"IDScores_ValidAddress\": \"\", \"IDScores_ValidPhone\": \"100\", \"IDScores_ValidEmail\": \"100\", \"IDScores_ValidName\": \"100\", \"IDScores_Deceased\": \"\", \"IDScores_NameToPhone\": \"1\", \"IDScores_NameToEmail\": \"100\", \"IDScores_NameToAddress\": \"\", \"IDScores_AddressToPhone\": \"\", \"IDScores_AddressToEmail\": \"\", \"IDScores_PhoneToEmail\": \"10\", \"IDScores_USLocation\": \"\", \"IDScores_ValidPhone2\": \"\", \"IDScores_NameToPhone2\": \"\", \"IDScores_AddressToPhone2\": \"\", \"IDScores_Phone2ToEmail\": \"\", \"IDScores_PhoneConfidenceScore\": \"15\", \"IDScores_Phone2ConfidenceScore\": \"\", \"IDScores_AddressConfidenceScore\": \"\", \"IDScores_ValidCount\": \"3\", \"IDScores_LinkageCount\": \"1\", \"IDScores_RiskFlagCount\": \"0\", \"IDScores_ValidationSummary\": \"PASS\", \"IDScores_LinkageSummary\": \"INCONCLUSIVE\", \"IDScores_RiskFlagSummary\": \"PASS\", \"IDScores_IDVerifyScore\": \"65\", \"IDAttributes_PropertyAttributes_IDS_PID\": \"\", \"IDAttributes_PropertyAttributes_IDS_AID\": \"\", \"IDAttributes_PropertyAttributes_Location_FIPSCD\": \"\", \"IDAttributes_PropertyAttributes_Location_PROP_CENSUSTRACT\": \"\", \"IDAttributes_PropertyAttributes_Location_PROP_MUNINAME\": \"\", \"IDAttributes_PropertyAttributes_Location_PROP_TOWNSHIPCD\": \"\", \"IDAttributes_PropertyAttributes_Location_PROP_SUBDIVISION\": \"\", \"IDAttributes_PropertyAttributes_Location_PROP_ZONING\": \"\", \"IDAttributes_PropertyAttributes_Location_PROP_RANGE\": \"\", \"IDAttributes_PropertyAttributes_Location_PROP_SECTION\": \"\", \"IDAttributes_PropertyAttributes_Location_PROP_LATITUDE\": \"\", \"IDAttributes_PropertyAttributes_Location_PROP_LONGITUDE\": \"\", \"IDAttributes_PropertyAttributes_Location_PROP_LANDUSE\": \"\", \"IDAttributes_PropertyAttributes_Location_PROP_APN\": \"\", \"IDAttributes_PropertyAttributes_Location_PROP_APNSEQNBR\": \"\", \"IDAttributes_PropertyAttributes_AdditionalInformation_PROP_OWNEROCC\": \"\", \"IDAttributes_PropertyAttributes_AdditionalInformation_PROP_ADDRIND\": \"\", \"IDAttributes_PropertyAttributes_AdditionalInformation_PROP_CORPIND\": \"\", \"IDAttributes_PropertyAttributes_AdditionalInformation_PROP_RESCD\": \"\", \"IDAttributes_PropertyAttributes_AdditionalInformation_PROP_IND\": \"\", \"IDAttributes_PropertyAttributes_AdditionalInformation_PROP_MOBHOME\": \"\", \"IDAttributes_PropertyAttributes_AdditionalInformation_PROP_NRBBLD\": \"\", \"IDAttributes_PropertyAttributes_AdditionalInformation_PROP_STYLE\": \"\", \"IDAttributes_PropertyAttributes_AdditionalInformation_PROP_STORIESCD\": \"\", \"IDAttributes_PropertyAttributes_AdditionalInformation_PROP_STORIESNBR\": \"\", \"IDAttributes_PropertyAttributes_AdditionalInformation_PROP_APTNBR\": \"\", \"IDAttributes_PropertyAttributes_AdditionalInformation_PROP_QLTY\": \"\", \"IDAttributes_PropertyAttributes_AdditionalInformation_PROP_BLDGCD\": \"\", \"IDAttributes_PropertyAttributes_AdditionalInformation_PROP_BLDGIMPCD\": \"\", \"IDAttributes_PropertyAttributes_AdditionalInformation_PROP_COND\": \"\", \"IDAttributes_PropertyAttributes_AdditionalInformation_PROP_CNSTRTYPE\": \"\", \"IDAttributes_PropertyAttributes_AdditionalInformation_PROP_EXTNW\": \"\", \"IDAttributes_PropertyAttributes_AdditionalInformation_PROP_VALCALC\": \"\", \"IDAttributes_PropertyAttributes_AdditionalInformation_PROP_VAL_CALCIND\": \"\", \"IDAttributes_PropertyAttributes_AdditionalInformation_PROP_LAND_VALCALC\": \"\", \"IDAttributes_PropertyAttributes_AdditionalInformation_PROP_LAND_VALCALC_IND\": \"\", \"IDAttributes_PropertyAttributes_AdditionalInformation_PROP_IMP_VALCALC\": \"\", \"IDAttributes_PropertyAttributes_AdditionalInformation_PROP_IMP_VALCALC_IND\": \"\", \"IDAttributes_PropertyAttributes_AdditionalInformation_PROP_ASSED_VAL\": \"\", \"IDAttributes_PropertyAttributes_AdditionalInformation_PROP_ASSED_LANDVAL\": \"\", \"IDAttributes_PropertyAttributes_AdditionalInformation_PROP_ASSED_IMPVAL\": \"\", \"IDAttributes_PropertyAttributes_AdditionalInformation_PROP_MRKTVAL\": \"\", \"IDAttributes_PropertyAttributes_AdditionalInformation_PROP_MRKT_LANDVAL\": \"\", \"IDAttributes_PropertyAttributes_AdditionalInformation_PROP_MRKT_IMPVAL\": \"\", \"IDAttributes_PropertyAttributes_AdditionalInformation_PROP_APPRAISED_VAL\": \"\", \"IDAttributes_PropertyAttributes_AdditionalInformation_PROP_APPRAISED_LANDVAL\": \"\", \"IDAttributes_PropertyAttributes_AdditionalInformation_PROP_APPRAISED_IMPVAL\": \"\", \"IDAttributes_PropertyAttributes_Attributes_PROP_VIEW\": \"\", \"IDAttributes_PropertyAttributes_Attributes_PROP_LCTN_INFL\": \"\", \"IDAttributes_PropertyAttributes_Attributes_PROP_FRONTFT\": \"\", \"IDAttributes_PropertyAttributes_Attributes_PROP_DEPTHFT\": \"\", \"IDAttributes_PropertyAttributes_Attributes_PROP_ACRES\": \"\", \"IDAttributes_PropertyAttributes_Attributes_PROP_LANDSQFT\": \"\", \"IDAttributes_PropertyAttributes_Attributes_PROP_YRBLD\": \"\", \"IDAttributes_PropertyAttributes_Attributes_PROP_EFFYRBLD\": \"\", \"IDAttributes_PropertyAttributes_Attributes_PROP_UNVBLDSQFT\": \"\", \"IDAttributes_PropertyAttributes_Attributes_PROP_BLDSQFTIND\": \"\", \"IDAttributes_PropertyAttributes_Attributes_PROP_BLDSQFT\": \"\", \"IDAttributes_PropertyAttributes_Attributes_PROP_LIVINGSQFT\": \"\", \"IDAttributes_PropertyAttributes_Attributes_PROP_GRDFLRSQFT\": \"\", \"IDAttributes_PropertyAttributes_Attributes_PROP_GROSSSQFT\": \"\", \"IDAttributes_PropertyAttributes_Attributes_PROP_ADJGROSSSQFT\": \"\", \"IDAttributes_PropertyAttributes_Attributes_PROP_BSMTSQFT\": \"\", \"IDAttributes_PropertyAttributes_Attributes_PROP_PRKGSQFT\": \"\", \"IDAttributes_PropertyAttributes_Attributes_PROP_RMS\": \"\", \"IDAttributes_PropertyAttributes_Attributes_PROP_BEDRMS\": \"\", \"IDAttributes_PropertyAttributes_Attributes_PROP_BATHSCALC\": \"\", \"IDAttributes_PropertyAttributes_Attributes_PROP_BATHS\": \"\", \"IDAttributes_PropertyAttributes_Attributes_PROP_FULLBATHS\": \"\", \"IDAttributes_PropertyAttributes_Attributes_PROP_HALFBATHS\": \"\", \"IDAttributes_PropertyAttributes_Attributes_PROP_1QTRBATHS\": \"\", \"IDAttributes_PropertyAttributes_Attributes_PROP_3QTRBATHS\": \"\", \"IDAttributes_PropertyAttributes_Attributes_PROP_BATHFIXS\": \"\", \"IDAttributes_PropertyAttributes_Attributes_PROP_AC\": \"\", \"IDAttributes_PropertyAttributes_Attributes_PROP_BSMTF\": \"\", \"IDAttributes_PropertyAttributes_Attributes_PROP_FRPL\": \"\", \"IDAttributes_PropertyAttributes_Attributes_PROP_FRPLNBR\": \"\", \"IDAttributes_PropertyAttributes_Attributes_PROP_FRPLTYPE\": \"\", \"IDAttributes_PropertyAttributes_Attributes_PROP_FND\": \"\", \"IDAttributes_PropertyAttributes_Attributes_PROP_FLR\": \"\", \"IDAttributes_PropertyAttributes_Attributes_PROP_FRAME\": \"\", \"IDAttributes_PropertyAttributes_Attributes_PROP_GAR\": \"\", \"IDAttributes_PropertyAttributes_Attributes_PROP_HEAT\": \"\", \"IDAttributes_PropertyAttributes_Attributes_PROP_PRKGSPACES\": \"\", \"IDAttributes_PropertyAttributes_Attributes_PROP_PRKGTYPE\": \"\", \"IDAttributes_PropertyAttributes_Attributes_PROP_POOL\": \"\", \"IDAttributes_PropertyAttributes_Attributes_PROP_POOLCD\": \"\", \"IDAttributes_PropertyAttributes_Attributes_PROP_ROOFCOVER\": \"\", \"IDAttributes_PropertyAttributes_Attributes_PROP_ROOFTYPE\": \"\", \"IDAttributes_PropertyAttributes_Attributes_PROP_ENERGY\": \"\", \"IDAttributes_PropertyAttributes_Attributes_PROP_FUEL\": \"\", \"IDAttributes_PropertyAttributes_Attributes_PROP_SEWER\": \"\", \"IDAttributes_PropertyAttributes_Attributes_PROP_WATER\": \"\", \"IDAttributes_PropertyAttributes_AssessorDeed_PROP_HOMESTEAD\": \"\", \"IDAttributes_PropertyAttributes_AssessorDeed_PROP_XMTVET\": \"\", \"IDAttributes_PropertyAttributes_AssessorDeed_PROP_XMT_DISABLED\": \"\", \"IDAttributes_PropertyAttributes_AssessorDeed_PROP_TAXAMT\": \"\", \"IDAttributes_PropertyAttributes_AssessorDeed_PROP_TAXYR\": \"\", \"IDAttributes_PropertyAttributes_AssessorDeed_PROP_DOCYR\": \"\", \"IDAttributes_PropertyAttributes_AssessorDeed_PROP_SALESDEEDCD\": \"\", \"IDAttributes_PropertyAttributes_AssessorDeed_PROP_RECDATE\": \"\", \"IDAttributes_PropertyAttributes_AssessorDeed_PROP_SELLERNAME\": \"\", \"IDAttributes_PropertyAttributes_AssessorDeed_PROP_SALEDATE\": \"\", \"IDAttributes_PropertyAttributes_AssessorDeed_PROP_SALEAMT\": \"\", \"IDAttributes_PropertyAttributes_AssessorDeed_PROP_SALECD\": \"\", \"IDAttributes_PropertyAttributes_AssessorDeed_PROP_APNCD\": \"\", \"IDAttributes_PropertyAttributes_AssessorDeed_PROP_APNCNT\": \"\", \"IDAttributes_PropertyAttributes_AssessorDeed_PROP_ASMTYR\": \"\", \"IDAttributes_PropertyAttributes_AssessorDeed_PROP_SALESTRANSCD\": \"\", \"IDAttributes_PropertyAttributes_PriorSale_PROP_RECDATE_PRIOR\": \"\", \"IDAttributes_PropertyAttributes_PriorSale_PROP_SALEDATE_PRIOR\": \"\", \"IDAttributes_PropertyAttributes_PriorSale_PROP_SALEAMT_PRIOR\": \"\", \"IDAttributes_PropertyAttributes_PriorSale_PROP_SALECD_PRIOR\": \"\", \"IDAttributes_PropertyAttributes_PriorSale_PROP_APNCD_PRIOR\": \"\", \"IDAttributes_PropertyAttributes_PriorSale_PROP_DEEDCD_PRIOR\": \"\", \"IDAttributes_PropertyAttributes_PriorSale_PROP_DOCYR_PRIOR\": \"\", \"IDAttributes_PropertyAttributes_PriorSale_PROP_DEEDTYPE_PRIOR\": \"\", \"IDAttributes_PropertyAttributes_PriorSale_PROP_SALESTRANSCD_PRIOR\": \"\", \"IDAttributes_PropertyAttributes_PriorSale_PROP_MTGAMT_PRIOR\": \"\", \"IDAttributes_PropertyAttributes_Mortgage_PROP_MTGINTCD\": \"\", \"IDAttributes_PropertyAttributes_Mortgage_PROP_OWNERCD\": \"\", \"IDAttributes_PropertyAttributes_Mortgage_PROP_SELLCARRYBACK\": \"\", \"IDAttributes_PropertyAttributes_Mortgage_PROP_TITTLECOMPANY\": \"\", \"IDAttributes_PropertyAttributes_Mortgage_PROP_LOANTOVAL\": \"\", \"IDAttributes_PropertyAttributes_Mortgage_PROP_MTGAMT\": \"\", \"IDAttributes_PropertyAttributes_Mortgage_PROP_MTGDATE\": \"\", \"IDAttributes_PropertyAttributes_Mortgage_PROP_MTGLOANCD\": \"\", \"IDAttributes_PropertyAttributes_Mortgage_PROP_MTGDEEDCD\": \"\", \"IDAttributes_PropertyAttributes_Mortgage_PROP_MTGTERM\": \"\", \"IDAttributes_PropertyAttributes_Mortgage_PROP_MTGDUEDATE\": \"\", \"IDAttributes_PropertyAttributes_Mortgage_PROP_MTGASSUMPTIONAMT\": \"\", \"IDAttributes_PropertyAttributes_Mortgage_PROP_LENDERNAME\": \"\", \"IDAttributes_PropertyAttributes_Mortgage_PROP_MTGREFICD\": \"\", \"IDAttributes_PropertyAttributes_Mortgage_PROP_RMSEQUITYCD\": \"\", \"IDAttributes_PropertyAttributes_Mortgage_PROP_MTGINTRATE\": \"\", \"IDAttributes_PropertyAttributes_Mortgage_PROP_MTGINTRATETYPE\": \"\", \"IDAttributes_PropertyAttributes_Mortgage_PROP_MTGAMT2\": \"\", \"IDAttributes_PropertyAttributes_Mortgage_PROP_MTGDATE2\": \"\", \"IDAttributes_PropertyAttributes_Mortgage_PROP_MTGLOANCD2\": \"\", \"IDAttributes_PropertyAttributes_Mortgage_PROP_MTGDEEDCD2\": \"\", \"IDAttributes_PropertyAttributes_Mortgage_PROP_MTGTERM2\": \"\", \"IDAttributes_PropertyAttributes_Mortgage_PROP_MTGDUEDATE2\": \"\", \"IDAttributes_PropertyAttributes_Mortgage_PROP_MTGASSUMPTIONAMT2\": \"\", \"IDAttributes_PropertyAttributes_Mortgage_PROP_LENDERNAME2\": \"\", \"IDAttributes_PropertyAttributes_Mortgage_PROP_MTGREFICD2\": \"\", \"IDAttributes_PropertyAttributes_Mortgage_PROP_RMSEQUITYCD2\": \"\", \"IDAttributes_PropertyAttributes_Mortgage_PROP_MTGINTRATE2\": \"\", \"IDAttributes_PropertyAttributes_Mortgage_PROP_MTGINTRATETYPE2\": \"\", \"IDAttributes_PropertyAttributes_Mortgage_PROP_MTGAMT3\": \"\", \"IDAttributes_PropertyAttributes_Mortgage_PROP_MTGDATE3\": \"\", \"IDAttributes_PropertyAttributes_Mortgage_PROP_MTGLOANCD3\": \"\", \"IDAttributes_PropertyAttributes_Mortgage_PROP_MTGDEEDCD3\": \"\", \"IDAttributes_PropertyAttributes_Mortgage_PROP_MTGTERM3\": \"\", \"IDAttributes_PropertyAttributes_Mortgage_PROP_MTGDUEDATE3\": \"\", \"IDAttributes_PropertyAttributes_Mortgage_PROP_MTGASSUMPTIONAMT3\": \"\", \"IDAttributes_PropertyAttributes_Mortgage_PROP_LENDERNAME3\": \"\", \"IDAttributes_PropertyAttributes_Mortgage_PROP_MTGREFICD3\": \"\", \"IDAttributes_PropertyAttributes_Mortgage_PROP_RMSEQUITYCD3\": \"\", \"IDAttributes_PropertyAttributes_Mortgage_PROP_MTGINTRATE3\": \"\", \"IDAttributes_PropertyAttributes_Mortgage_PROP_MTGINTRATETYPE3\": \"\", \"IDAttributes_DemographicAttributes_IDS_PID\": \"Y43371097932208\", \"IDAttributes_DemographicAttributes_IDS_AID\": \"Y000000128111248\", \"IDAttributes_DemographicAttributes_IDS_HHID\": \"Y000000128111248BOSWELL\", \"IDAttributes_DemographicAttributes_Demographics_Gender\": \"F\", \"IDAttributes_DemographicAttributes_Demographics_Age\": \"73\", \"IDAttributes_DemographicAttributes_Demographics_MedYrBld\": \"\", \"IDAttributes_DemographicAttributes_Demographics_LOR\": \"\", \"IDAttributes_DemographicAttributes_Demographics_Homeowner\": \"\", \"IDAttributes_DemographicAttributes_Demographics_EHI\": \"A\", \"IDAttributes_DemographicAttributes_Demographics_DwellType\": \"S\", \"IDAttributes_DemographicAttributes_Demographics_Married\": \"S\", \"IDAttributes_DemographicAttributes_Demographics_MobHome\": \"\", \"IDAttributes_DemographicAttributes_Demographics_Pool\": \"\", \"IDAttributes_DemographicAttributes_Demographics_FirePl\": \"\", \"IDAttributes_DemographicAttributes_Demographics_SglParent\": \"\", \"IDAttributes_DemographicAttributes_Demographics_HHNBRSR\": \"Y\", \"IDAttributes_DemographicAttributes_Demographics_CreditCard\": \"\", \"IDAttributes_DemographicAttributes_Demographics_WealthScr\": \"\", \"IDAttributes_DemographicAttributes_Demographics_CharityDnr\": \"\", \"IDAttributes_DemographicAttributes_Demographics_MrktHomeVal\": \"\", \"IDAttributes_DemographicAttributes_Demographics_Education\": \"\", \"IDAttributes_DemographicAttributes_Demographics_Ethnicity\": \"\", \"IDAttributes_DemographicAttributes_Demographics_ChildCd\": \"\", \"IDAttributes_DemographicAttributes_Demographics_ChildAgeCd\": \"\", \"IDAttributes_DemographicAttributes_Demographics_ChildNbrCd\": \"\", \"IDAttributes_DemographicAttributes_Demographics_VehLux\": \"\", \"IDAttributes_DemographicAttributes_Demographics_VehSuv\": \"Y\", \"IDAttributes_DemographicAttributes_Demographics_VehTrk\": \"\", \"IDAttributes_DemographicAttributes_Demographics_PctBlk\": \"\", \"IDAttributes_DemographicAttributes_Demographics_PctWht\": \"\", \"IDAttributes_DemographicAttributes_Demographics_PctHsp\": \"\", \"IDAttributes_DemographicAttributes_Demographics_PctAsi\": \"\", \"IDAttributes_DemographicAttributes_Demographics_PctEngSpeak\": \"\", \"IDAttributes_DemographicAttributes_Demographics_PctSpnSpeak\": \"\", \"IDAttributes_DemographicAttributes_Demographics_PctAsiaSpeak\": \"\", \"IDAttributes_DemographicAttributes_Demographics_PctSFDU\": \"\", \"IDAttributes_DemographicAttributes_Demographics_PctMFDU\": \"\", \"IDAttributes_DemographicAttributes_Demographics_MHV\": \"\", \"IDAttributes_DemographicAttributes_Demographics_MOR\": \"\", \"IDAttributes_DemographicAttributes_Demographics_PctAuto\": \"\", \"IDAttributes_DemographicAttributes_Demographics_MedSchl\": \"\", \"IDAttributes_DemographicAttributes_Demographics_PctWhiteCollar\": \"\", \"IDAttributes_DemographicAttributes_Demographics_PctBlueCollar\": \"\", \"IDAttributes_DemographicAttributes_Demographics_PctOccO\": \"\", \"IDAttributes_DemographicAttributes_Demographics_DemoLvl\": \"3\", \"IDAttributes_DemographicAttributes_LifeStyles_PIPriceClub\": \"\", \"IDAttributes_DemographicAttributes_LifeStyles_PIWomanAprl\": \"\", \"IDAttributes_DemographicAttributes_LifeStyles_PIMenAprl\": \"\", \"IDAttributes_DemographicAttributes_LifeStyles_PIChildAprl\": \"\", \"IDAttributes_DemographicAttributes_LifeStyles_PIPetAprl\": \"\", \"IDAttributes_DemographicAttributes_LifeStyles_PIBookBuy\": \"\", \"IDAttributes_DemographicAttributes_LifeStyles_PIBookRead\": \"\", \"IDAttributes_DemographicAttributes_LifeStyles_PIHiTech\": \"\", \"IDAttributes_DemographicAttributes_LifeStyles_PIArts\": \"\", \"IDAttributes_DemographicAttributes_LifeStyles_PICollect\": \"\", \"IDAttributes_DemographicAttributes_LifeStyles_PIHomeGrd\": \"\", \"IDAttributes_DemographicAttributes_LifeStyles_PIHomeImp\": \"\", \"IDAttributes_DemographicAttributes_LifeStyles_PICookWine\": \"\", \"IDAttributes_DemographicAttributes_LifeStyles_PIGamble\": \"\", \"IDAttributes_DemographicAttributes_LifeStyles_PITravel\": \"\", \"IDAttributes_DemographicAttributes_LifeStyles_PIFitness\": \"\", \"IDAttributes_DemographicAttributes_LifeStyles_PISelfImp\": \"\", \"IDAttributes_DemographicAttributes_LifeStyles_PIAuto\": \"\", \"IDAttributes_DemographicAttributes_LifeStyles_PISport\": \"\", \"IDAttributes_DemographicAttributes_LifeStyles_PIOutdoor\": \"\", \"IDAttributes_DemographicAttributes_LifeStyles_PIInvst\": \"\", \"IDAttributes_DemographicAttributes_LifeStyles_PIBoat\": \"\", \"IDAttributes_DemographicAttributes_LifeStyles_PIMoto\": \"\", \"IDAttributes_DemographicAttributes_PowerScore_PurPowerScr\": \"\", \"IDAttributes_DemographicAttributes_PowerScore_ScoreCode\": \"\", \"IDAttributes_PhoneAttributes_PhoneType\": \"W\", \"IDAttributes_PhoneAttributes_PhoneType2\": \"\", \"IDAttributes_AutoAttributes_IDS_PID\": \"Y43371313800989\", \"IDAttributes_AutoAttributes_IDS_AID\": \"Y000000128111248\", \"IDAttributes_AutoAttributes_IDS_HHID\": \"Y000000128111248BOSWELL\", \"IDAttributes_AutoAttributes_Vehicle_Make\": \"FORD\", \"IDAttributes_AutoAttributes_Vehicle_Model\": \"EXPLORER\", \"IDAttributes_AutoAttributes_Vehicle_Year\": \"2004\", \"IDAttributes_AutoAttributes_Vehicle_ClassCD\": \"FULL SIZE SUV\", \"IDAttributes_AutoAttributes_Vehicle_FuelTypeCD\": \"F\", \"IDAttributes_AutoAttributes_Vehicle_MFGCD\": \"F\", \"IDAttributes_AutoAttributes_Vehicle_StyleCD\": \"UTIL\", \"IDAttributes_AutoAttributes_Vehicle_Mileages\": \"H\", \"IDAttributes_AutoAttributes_Vehicle_ODate\": \"20100615\", \"IDAttributes_AutoAttributes_Vehicle_VIN\": \"1FMZU73K24ZA70064\", \"IDAttributes_AutoAttributes_Vehicle2_Make\": \"\", \"IDAttributes_AutoAttributes_Vehicle2_Model\": \"\", \"IDAttributes_AutoAttributes_Vehicle2_Year\": \"\", \"IDAttributes_AutoAttributes_Vehicle2_ClassCD\": \"\", \"IDAttributes_AutoAttributes_Vehicle2_FuelTypeCD\": \"\", \"IDAttributes_AutoAttributes_Vehicle2_MFGCD\": \"\", \"IDAttributes_AutoAttributes_Vehicle2_StyleCD\": \"\", \"IDAttributes_AutoAttributes_Vehicle2_Mileages\": \"\", \"IDAttributes_AutoAttributes_Vehicle2_ODate\": \"\", \"IDAttributes_AutoAttributes_Vehicle2_VIN\": \"\", \"IDAttributes_AutoAttributes_Vehicle3_Make\": \"\", \"IDAttributes_AutoAttributes_Vehicle3_Model\": \"\", \"IDAttributes_AutoAttributes_Vehicle3_Year\": \"\", \"IDAttributes_AutoAttributes_Vehicle3_ClassCD\": \"\", \"IDAttributes_AutoAttributes_Vehicle3_FuelTypeCD\": \"\", \"IDAttributes_AutoAttributes_Vehicle3_MFGCD\": \"\", \"IDAttributes_AutoAttributes_Vehicle3_StyleCD\": \"\", \"IDAttributes_AutoAttributes_Vehicle3_Mileages\": \"\", \"IDAttributes_AutoAttributes_Vehicle3_ODate\": \"\", \"IDAttributes_AutoAttributes_Vehicle3_VIN\": \"\", \"IDAttributes_AutoAttributes_Vehicle4_Make\": \"\", \"IDAttributes_AutoAttributes_Vehicle4_Model\": \"\", \"IDAttributes_AutoAttributes_Vehicle4_Year\": \"\", \"IDAttributes_AutoAttributes_Vehicle4_ClassCD\": \"\", \"IDAttributes_AutoAttributes_Vehicle4_FuelTypeCD\": \"\", \"IDAttributes_AutoAttributes_Vehicle4_MFGCD\": \"\", \"IDAttributes_AutoAttributes_Vehicle4_StyleCD\": \"\", \"IDAttributes_AutoAttributes_Vehicle4_Mileages\": \"\", \"IDAttributes_AutoAttributes_Vehicle4_ODate\": \"\", \"IDAttributes_AutoAttributes_Vehicle4_VIN\": \"\", \"IDAttributes_IPAttributes_IP\": \"\", \"IDAttributes_IPAttributes_IPRegion\": \"\", \"IDAttributes_IPAttributes_City\": \"\", \"IDAttributes_IPAttributes_Zip\": \"\", \"IDAttributes_IPAttributes_Latitude\": \"\", \"IDAttributes_IPAttributes_Longitude\": \"\", \"IDAttributes_IPAttributes_ISP\": \"\", \"IDAttributes_IPAttributes_IPFrom\": \"\", \"IDAttributes_IPAttributes_IPTo\": \"\", \"IDIntelligence_InMarketAuto_IN_financing_prob_rank\": \"50\", \"IDIntelligence_InMarketAuto_IN_insurance_prob_rank\": \"30\", \"IDIntelligence_InMarketAuto_IN_new_vehicle_prob_rank\": \"90\", \"IDIntelligence_InMarketAuto_IN_auto_parts_prob_rank\": \"70\", \"IDIntelligence_InMarketAuto_IN_used_vehicle_prob_rank\": \"30\", \"IDIntelligence_IDConnex_Level\": \"individual\", \"IDIntelligence_IDConnex_ConfidenceScore\": \"M\", \"IDIntelligence_IDConnex_PID\": \"Y43371097932208\", \"IDIntelligence_IDConnex_HouseholdID\": \"\", \"IDIntelligence_IDConnex_AddressID\": \"\", \"IDIntelligence_IDConnex_Zip9\": \"\", \"IDIntelligence_IDConnex_KnowledgeLinkNum\": \"\", \"IDIntelligence_IDConnex_HouseholdIdNum\": \"\", \"IDIntelligence_IDConnex_HouseholdClusterCode\": \"P01\", \"IDIntelligence_IDConnex_HouseholdClusterName\": \"Rooms for Improvement\", \"IDIntelligence_IDConnex_DetailHouseholdClusterCode\": \"\", \"IDIntelligence_IDConnex_NeighborhoodClusterCode\": \"37\", \"IDIntelligence_IDConnex_NeighborhoodClusterName\": \"At the Starting Gate\", \"IDIntelligence_IDConnex_FamilyClusterCode\": \"P\", \"IDIntelligence_IDConnex_FamilyClusterName\": \"Low-Rent Singles\", \"IDIntelligence_IDConnex_MessagingClusterCode\": \"1\", \"IDIntelligence_IDConnex_MessagingClusterName\": \"Young and Free\", \"IDIntelligence_IDConnex_DigitalClusterCode\": \"01\", \"IDIntelligence_IDConnex_DigitalClusterName\": \"Ape for Apps\", \"IDIntelligence_IDConnex_GenerationClusterCode\": \"M2\", \"IDIntelligence_IDConnex_GenerationClusterName\": \"Mature Millennials\", \"IDIntelligence_IDConnex_GenerationGroupCode\": \"M\", \"IDIntelligence_IDConnex_LifeStageClusterCode\": \"YG1\", \"IDIntelligence_IDConnex_LifeStageClusterName\": \"Newly Minted\", \"IDIntelligence_IDConnex_LifeStageGroupCode\": \"YG\"}}, \"_lumigo\": {\"step_function_uid\": \"268e0e27-d662-47fe-aa28-587908aeb20f\"}, \"trustedform\": {\"input\": {\"trustedform_cert_url\": \"https://cert.trustedform.com/ebcbfd4f7b27ec8bfede217024b30ddc1d96cb98\"}, \"output\": {\"appended\": {\"trustedform\": {\"os\": \"iOS 14.4.2\", \"ip\": \"155.186.75.246\", \"url\": \"https://mayberryadvisors.com/life-insurance/l5b2\", \"token\": \"ebcbfd4f7b27ec8bfede217024b30ddc1d96cb98\", \"scans\": {\"found\": [], \"not_found\": []}, \"domain\": \"mayberryadvisors.com\", \"outcome\": \"success\", \"browser\": \"Mobile Safari 14.2\", \"website\": {\"location\": \"https://mayberryadvisors.com/life-insurance/l5b2\"}, \"duration\": 0.864035, \"warnings\": [], \"location\": {\"city\": \"Ventura\", \"state\": \"CA\", \"latitude\": 34.3308, \"longitude\": -119.3584, \"time_zone\": \"America/Los_Angeles\", \"postal_code\": \"93001\", \"country_code\": \"US\"}, \"share_url\": \"https://cert.trustedform.com/ebcbfd4f7b27ec8bfede217024b30ddc1d96cb98?shared_token=ZFZCMmRGRTFUVkZ3YW01MUwxcHBTR2hVWkRkaWREbERjbXBRV1hSclNtaGpaWGg2SzAxNFRYQnhha0ppY25OUFprVk5abmxvT0c5d1RGZDRSRU54T0RSdEwzcGhjV0pJYlU0eU5EaHFVM0ZDUm1oeWRrVnllR1U1WVc1cEsyNXRiMkpUV1RGMWVrSnRhWE05TFMxcVRXWmliekF2YW5waWVWTklSbWxOYlZBdlltcG5QVDA9LS04NWExMjM5OTI4ZTk0ZmQ2NTdjNWZkNDk1MDE0MTc0MDU0MjFlZTNk\", \"is_masked\": false, \"created_at\": \"2021-05-25T19:15:50.000Z\", \"user_agent\": \"Mozilla/5.0 (iPhone; CPU iPhone OS 14_4_2 like Mac OS X) AppleWebKit/605.1.15 (KHTML, like Gecko) Mobile/15E148 [FBAN/FBIOS;FBDV/iPhone12,1;FBMD/iPhone;FBSN/iOS;FBSV/14.4.2;FBSS/2;FBID/phone;FBLC/en_US;FBOP/5]\", \"snapshot_url\": \"https://cert.trustedform.com/ebcbfd4f7b27ec8bfede217024b30ddc1d96cb98/snapshot/index.html\", \"age_in_seconds\": 318, \"masked_cert_url\": \"https://cert.trustedform.com/3b235a71534e28e1e7eefd83a5f6b8a2ca99b0b3\", \"fingerprints_summary\": \"No Fingerprinting Data\", \"data_service\": {\"ip\": \"155.186.75.246\", \"lon\": -119.3584, \"lat\": 34.3308, \"age\": 318, \"city\": \"Ventura\", \"state\": \"CA\", \"framed\": false, \"device\": \"Apple iPhone12,1\", \"masked\": false, \"cert_id\": \"ebcbfd4f7b27ec8bfede217024b30ddc1d96cb98\", \"browser\": \"Facebook \", \"outcome\": \"success\", \"warnings\": [], \"billable\": 1, \"page_url\": \"https://mayberryadvisors.com/life-insurance/l5b2\", \"time_zone\": \"America/Los_Angeles\", \"user_agent\": \"Mozilla/5.0 (iPhone; CPU iPhone OS 14_4_2 like Mac OS X) AppleWebKit/605.1.15 (KHTML, like Gecko) Mobile/15E148 [FBAN/FBIOS;FBDV/iPhone12,1;FBMD/iPhone;FBSN/iOS;FBSV/14.4.2;FBSS/2;FBID/phone;FBLC/en_US;FBOP/5]\", \"expires_at\": \"2021-05-31\", \"created_at\": \"2021-05-25T19:15:50.000Z\", \"scans_found\": [], \"postal_code\": \"93001\", \"country_code\": \"US\", \"event_duration\": 0, \"scans_not_found\": [], \"operating_system\": \"iOS 14.4.2\", \"fingerprints_matching\": [], \"fingerprints_non_matching\": []}}}, \"outcome\": \"success\", \"lead\": {\"id\": \"60ad4e23ca63210695d81d2f\"}, \"price\": 0}}, \"LeadScore\": 9, \"LivevoxLeadOriginationDate\": \"05/25/2021\", \"VendorOriginalLeadDate\": \"05/25/2021\", \"LeadCampaignName\": \"Integriant Life Insurance\", \"LeadType\": \"Purchased Leads\", \"AgentSkillName\": \"Life Insurance CA\", \"LivevoxLeadCreationData\": {\"account\": \"ce001005-a92a-44c2-abd6-a968d222f78e\", \"active\": \"true\", \"accountBlock\": \"NONE\", \"city\": \"Ventura\", \"state\": \"California\", \"country\": \"UNITED_STATES_OF_AMERICA\", \"address1\": \"\", \"address2\": \"\", \"phone\": [{\"phone\": 8057463713, \"ordinal\": 1, \"phoneBlock\": \"NONE\", \"smsConsent\": \"true\"}, {\"phone\": 8057463713, \"ordinal\": 2, \"phoneBlock\": \"NONE\"}], \"person\": {\"firstName\": \"Nora\", \"lastName\": \"Boswell\", \"email\": \"Bcozymain@gmail.com\", \"dateOfBirth\": -689105340000, \"zipCode\": \"93001\"}, \"primaryEmailConsent\": \"true\", \"customFields\": [{\"field\": \"COL1\", \"value\": \"\"}, {\"field\": \"COL2\", \"value\": \"Female\"}, {\"field\": \"COL4\", \"value\": \"ce001005-a92a-44c2-abd6-a968d222f78e\"}, {\"field\": \"COL5\", \"value\": 9}, {\"field\": \"COL6\", \"value\": \"RJHMXO2X-GXVW-JIKE-3HDA-LXPXUQONU2S5\"}, {\"field\": \"COL7\", \"value\": \"Life\"}, {\"field\": \"COL8\", \"value\": \"\"}, {\"field\": \"COL9\", \"value\": \"05/25/2021\"}, {\"field\": \"COL10\", \"value\": \"03/01/1948\"}, {\"field\": \"COL19\", \"value\": \"Mayberry\"}, {\"field\": \"COL32\", \"value\": \"Term Life\"}, {\"field\": \"COL17\", \"value\": \"WebForm\"}, {\"field\": \"COL69\", \"value\": \"05/25/2021\"}, {\"field\": \"COL18\", \"value\": \"AdNet\"}, {\"field\": \"COL71\", \"value\": \"No\"}, {\"field\": \"COL12\", \"value\": \"61\"}, {\"field\": \"COL13\", \"value\": \"110\"}, {\"field\": \"COL15\", \"value\": \"I have no medical conditions\"}, {\"field\": \"COL72\", \"value\": \"Unemployed\"}, {\"field\": \"COL14\", \"value\": \"$100,000\"}, {\"field\": \"COL73\", \"value\": \"Yes\"}, {\"field\": \"COL74\", \"value\": \"33\"}, {\"field\": \"COL16\", \"value\": \"Cover end of life expenses,Leave money for my children\"}, {\"field\": \"COL11\", \"value\": \"No\"}, {\"field\": \"COL76\", \"value\": \"\"}, {\"field\": \"COL75\", \"value\": \"Widowed\"}, {\"field\": \"COL77\", \"value\": \"Integriant Life Insurance\"}, {\"field\": \"COL79\", \"value\": \"HI\"}, {\"field\": \"COL90\", \"value\": \"\"}, {\"field\": \"COL91\", \"value\": \"\"}, {\"field\": \"COL93\", \"value\": \"0B4\"}, {\"field\": \"COL94\", \"value\": \"\"}, {\"field\": \"COL98\", \"value\": \"Purchased Leads\"}, {\"field\": \"COL31\", \"value\": \"\"}, {\"field\": \"COL23\", \"value\": \"\"}, {\"field\": \"COL26\", \"value\": \"\"}, {\"field\": \"COL96\", \"value\": \"\"}, {\"field\": \"COL78\", \"value\": 1019906}]}}'"
      ]
     },
     "execution_count": 57,
     "metadata": {},
     "output_type": "execute_result"
    }
   ],
   "source": [
    "failedStateName = 'FinalFanout'\n",
    "failedInput"
   ]
  },
  {
   "cell_type": "code",
   "execution_count": 22,
   "id": "motivated-preparation",
   "metadata": {},
   "outputs": [],
   "source": [
    "def smArnFromExecutionArn(arn):\n",
    "    '''\n",
    "    Get the State Machine Arn from the execution Arn\n",
    "    Input: Execution Arn of a state machine\n",
    "    Output: Arn of the state machine\n",
    "    '''\n",
    "    smArn = arn.split(':')[:-1]\n",
    "    smArn[5] = 'stateMachine'\n",
    "    return ':'.join(smArn)"
   ]
  },
  {
   "cell_type": "code",
   "execution_count": 60,
   "id": "greenhouse-replica",
   "metadata": {},
   "outputs": [
    {
     "data": {
      "text/plain": [
       "'arn:aws:states:us-east-1:133240237239:stateMachine:prod-incoming-leads-business-process'"
      ]
     },
     "execution_count": 60,
     "metadata": {},
     "output_type": "execute_result"
    }
   ],
   "source": [
    "smArn = smArnFromExecutionArn(failed_execution_arn)\n",
    "smArn"
   ]
  },
  {
   "cell_type": "code",
   "execution_count": 90,
   "id": "minus-clear",
   "metadata": {},
   "outputs": [],
   "source": [
    "response = client.describe_state_machine(\n",
    "            stateMachineArn=smArn\n",
    "        )"
   ]
  },
  {
   "cell_type": "code",
   "execution_count": 91,
   "id": "departmental-witness",
   "metadata": {},
   "outputs": [
    {
     "data": {
      "text/plain": [
       "{'stateMachineArn': 'arn:aws:states:us-east-1:133240237239:stateMachine:prod-incoming-leads-business-process',\n",
       " 'name': 'prod-incoming-leads-business-process',\n",
       " 'status': 'ACTIVE',\n",
       " 'definition': '{\\n  \"Comment\": \"Business process flow for leads\",\\n  \"StartAt\": \"insertNonLeadFormDataInToDynamo\",\\n  \"States\": {\\n    \"insertNonLeadFormDataInToDynamo\": {\\n      \"Type\": \"Task\",\\n      \"Comment\": \"Insert all non lead form data into Dynamo DB\",\\n      \"Resource\": \"arn:aws:lambda:us-east-1:133240237239:function:integriant-leadintake-api-prod-allLeadDynamoInsert\",\\n      \"TimeoutSeconds\": 60,\\n      \"Retry\": [\\n        {\\n          \"ErrorEquals\": [\\n            \"HandledError\",\\n            \"States.TaskFailed\",\\n            \"Lambda.Unknown\"\\n          ],\\n          \"IntervalSeconds\": 10,\\n          \"MaxAttempts\": 2,\\n          \"BackoffRate\": 2\\n        },\\n        {\\n          \"ErrorEquals\": [\\n            \"States.ALL\"\\n          ],\\n          \"IntervalSeconds\": 5,\\n          \"MaxAttempts\": 2,\\n          \"BackoffRate\": 2\\n        }\\n      ],\\n      \"ResultPath\": null,\\n      \"Next\": \"enhanceAndCleanLeadData\"\\n    },\\n    \"enhanceAndCleanLeadData\": {\\n      \"Type\": \"Task\",\\n      \"Comment\": \"Clean up the data coming in, also add columns required for lead scoring and livevox also append infutor data\",\\n      \"Resource\": \"arn:aws:lambda:us-east-1:133240237239:function:integriant-leadintake-api-prod-enrichLeadData\",\\n      \"ResultPath\": \"$\",\\n      \"TimeoutSeconds\": 60,\\n      \"Retry\": [\\n        {\\n          \"ErrorEquals\": [\\n            \"HandledError\",\\n            \"States.TaskFailed\",\\n            \"Lambda.Unknown\"\\n          ],\\n          \"IntervalSeconds\": 10,\\n          \"MaxAttempts\": 2,\\n          \"BackoffRate\": 2\\n        },\\n        {\\n          \"ErrorEquals\": [\\n            \"States.ALL\"\\n          ],\\n          \"IntervalSeconds\": 5,\\n          \"MaxAttempts\": 2,\\n          \"BackoffRate\": 2\\n        }\\n      ],\\n      \"Next\": \"getTrustedFormData\"\\n    },\\n    \"getTrustedFormData\": {\\n      \"Type\": \"Task\",\\n      \"Comment\": \"Get trusted form data if the trustedform cert URL is populated\",\\n      \"Resource\": \"arn:aws:lambda:us-east-1:133240237239:function:integriant-leadintake-api-prod-trustedFormCertClaim\",\\n      \"ResultPath\": \"$\",\\n      \"TimeoutSeconds\": 60,\\n      \"Retry\": [\\n        {\\n          \"ErrorEquals\": [\\n            \"HandledError\",\\n            \"States.TaskFailed\",\\n            \"Lambda.Unknown\"\\n          ],\\n          \"IntervalSeconds\": 10,\\n          \"MaxAttempts\": 2,\\n          \"BackoffRate\": 2\\n        },\\n        {\\n          \"ErrorEquals\": [\\n            \"States.ALL\"\\n          ],\\n          \"IntervalSeconds\": 5,\\n          \"MaxAttempts\": 2,\\n          \"BackoffRate\": 2\\n        }\\n      ],\\n      \"Next\": \"scoreTheLead\"\\n    },\\n    \"scoreTheLead\": {\\n      \"Type\": \"Task\",\\n      \"Comment\": \"Apply lead scoring model to lead data\",\\n      \"Resource\": \"arn:aws:lambda:us-east-1:133240237239:function:integriant-leadintake-api-prod-scoreLeadData\",\\n      \"ResultPath\": \"$\",\\n      \"TimeoutSeconds\": 60,\\n      \"Retry\": [\\n        {\\n          \"ErrorEquals\": [\\n            \"HandledError\",\\n            \"States.TaskFailed\",\\n            \"Lambda.Unknown\"\\n          ],\\n          \"IntervalSeconds\": 10,\\n          \"MaxAttempts\": 2,\\n          \"BackoffRate\": 2\\n        },\\n        {\\n          \"ErrorEquals\": [\\n            \"States.ALL\"\\n          ],\\n          \"IntervalSeconds\": 5,\\n          \"MaxAttempts\": 2,\\n          \"BackoffRate\": 2\\n        }\\n      ],\\n      \"Next\": \"insertLeadDataIntoLivevox\"\\n    },\\n    \"insertLeadDataIntoLivevox\": {\\n      \"Type\": \"Task\",\\n      \"Comment\": \"Insert Lead data into Livevox Contact and Campaign\",\\n      \"Resource\": \"arn:aws:lambda:us-east-1:133240237239:function:integriant-leadintake-api-prod-insertIntoLiveVox\",\\n      \"ResultPath\": \"$\",\\n      \"TimeoutSeconds\": 60,\\n      \"Retry\": [\\n        {\\n          \"ErrorEquals\": [\\n            \"HandledError\",\\n            \"States.TaskFailed\",\\n            \"Lambda.Unknown\"\\n          ],\\n          \"IntervalSeconds\": 10,\\n          \"MaxAttempts\": 2,\\n          \"BackoffRate\": 2\\n        },\\n        {\\n          \"ErrorEquals\": [\\n            \"States.ALL\"\\n          ],\\n          \"IntervalSeconds\": 5,\\n          \"MaxAttempts\": 2,\\n          \"BackoffRate\": 2\\n        }\\n      ],\\n      \"Next\": \"FinalFanout\"\\n    },\\n    \"FinalFanout\": {\\n      \"Type\": \"Parallel\",\\n      \"End\": true,\\n      \"Branches\": [\\n        {\\n          \"StartAt\": \"insertLeadDataIntoZoho\",\\n          \"States\": {\\n            \"insertLeadDataIntoZoho\": {\\n              \"Type\": \"Task\",\\n              \"Comment\": \"Insert Lead data into Zoho Contacts\",\\n              \"Resource\": \"arn:aws:lambda:us-east-1:133240237239:function:integriant-leadintake-api-prod-upsertLeadIntoZoho\",\\n              \"ResultPath\": \"$\",\\n              \"TimeoutSeconds\": 60,\\n              \"Retry\": [\\n                {\\n                  \"ErrorEquals\": [\\n                    \"HandledError\",\\n                    \"States.TaskFailed\",\\n                    \"Lambda.Unknown\"\\n                  ],\\n                  \"IntervalSeconds\": 10,\\n                  \"MaxAttempts\": 2,\\n                  \"BackoffRate\": 2\\n                },\\n                {\\n                  \"ErrorEquals\": [\\n                    \"States.ALL\"\\n                  ],\\n                  \"IntervalSeconds\": 5,\\n                  \"MaxAttempts\": 2,\\n                  \"BackoffRate\": 2\\n                }\\n              ],\\n              \"End\": true\\n            }\\n          }\\n        },\\n        {\\n          \"StartAt\": \"insertFinalLeadDataInToDynamo\",\\n          \"States\": {\\n            \"insertFinalLeadDataInToDynamo\": {\\n              \"Type\": \"Task\",\\n              \"Comment\": \"Insert all final lead data into Dynamo DB\",\\n              \"Resource\": \"arn:aws:lambda:us-east-1:133240237239:function:integriant-leadintake-api-prod-allLeadFinalDynamoInsert\",\\n              \"TimeoutSeconds\": 60,\\n              \"Retry\": [\\n                {\\n                  \"ErrorEquals\": [\\n                    \"HandledError\",\\n                    \"States.TaskFailed\",\\n                    \"Lambda.Unknown\"\\n                  ],\\n                  \"IntervalSeconds\": 10,\\n                  \"MaxAttempts\": 2,\\n                  \"BackoffRate\": 2\\n                },\\n                {\\n                  \"ErrorEquals\": [\\n                    \"States.ALL\"\\n                  ],\\n                  \"IntervalSeconds\": 5,\\n                  \"MaxAttempts\": 2,\\n                  \"BackoffRate\": 2\\n                }\\n              ],\\n              \"End\": true\\n            }\\n          }\\n        }\\n      ]\\n    }\\n  }\\n}',\n",
       " 'roleArn': 'arn:aws:iam::133240237239:role/integriant-leadintake-api-ProdDashincomingDashlead-76S59EEH4L0K',\n",
       " 'type': 'STANDARD',\n",
       " 'creationDate': datetime.datetime(2020, 4, 20, 19, 29, 35, 213000, tzinfo=tzlocal()),\n",
       " 'loggingConfiguration': {'level': 'OFF', 'includeExecutionData': False},\n",
       " 'tracingConfiguration': {'enabled': False},\n",
       " 'ResponseMetadata': {'RequestId': 'd3ac9906-f410-4cba-beea-ca05400f0541',\n",
       "  'HTTPStatusCode': 200,\n",
       "  'HTTPHeaders': {'x-amzn-requestid': 'd3ac9906-f410-4cba-beea-ca05400f0541',\n",
       "   'content-type': 'application/x-amz-json-1.0',\n",
       "   'content-length': '7428'},\n",
       "  'RetryAttempts': 0}}"
      ]
     },
     "execution_count": 91,
     "metadata": {},
     "output_type": "execute_result"
    }
   ],
   "source": [
    "response"
   ]
  },
  {
   "cell_type": "code",
   "execution_count": 92,
   "id": "fresh-haven",
   "metadata": {},
   "outputs": [],
   "source": [
    "from datetime import datetime\n",
    "now_str = datetime.now().strftime(\"%Y%m%d\")"
   ]
  },
  {
   "cell_type": "code",
   "execution_count": 93,
   "id": "alert-transfer",
   "metadata": {},
   "outputs": [
    {
     "name": "stdout",
     "output_type": "stream",
     "text": [
      "{'stateMachineArn': 'arn:aws:states:us-east-1:133240237239:stateMachine:ce001005-a92a-44c2-abd6-a968d222f78e_152106-FR-20210526', 'creationDate': datetime.datetime(2021, 5, 26, 10, 55, 37, 877000, tzinfo=tzlocal()), 'ResponseMetadata': {'RequestId': '7d32ad0e-e768-467e-bbe4-1383dcc1fc05', 'HTTPStatusCode': 200, 'HTTPHeaders': {'x-amzn-requestid': '7d32ad0e-e768-467e-bbe4-1383dcc1fc05', 'content-type': 'application/x-amz-json-1.0', 'content-length': '160'}, 'RetryAttempts': 0}}\n"
     ]
    }
   ],
   "source": [
    "import json\n",
    "\n",
    "roleArn = response['roleArn']\n",
    "stateMachine = json.loads(response['definition'])\n",
    "# Create a name for the new state machine\n",
    "newName = failed_execution_name + '-FR-' + now_str\n",
    "# Get the StartAt state for the original state machine, because we will point the 'GoToState' to this state\n",
    "originalStartAt = stateMachine['StartAt']\n",
    "'''\n",
    "Create the GoToState with the variable $.resuming\n",
    "If new state machine is executed with $.resuming = True, then the state machine will skip to the failed state\n",
    "Otherwise, it will execute the state machine from the original start state\n",
    "'''\n",
    "goToState = {'Type': 'Choice',\n",
    "             'Choices': [{'Variable': '$.resuming', 'BooleanEquals': False, 'Next': originalStartAt}],\n",
    "             'Default': failedStateName}\n",
    "# Add GoToState to the set of states in the new state machine\n",
    "stateMachine['States']['GoToState'] = goToState\n",
    "# Add StartAt\n",
    "stateMachine['StartAt'] = 'GoToState'\n",
    "# Create new state machine\n",
    "try:\n",
    "    response = client.create_state_machine(\n",
    "        name=newName,\n",
    "        definition=json.dumps(stateMachine),\n",
    "        roleArn=roleArn\n",
    "    )\n",
    "except:\n",
    "    raise ('Failed to create new state machine with GoToState')\n",
    "print (response)"
   ]
  },
  {
   "cell_type": "code",
   "execution_count": 40,
   "id": "waiting-planet",
   "metadata": {},
   "outputs": [
    {
     "data": {
      "text/plain": [
       "'ce001005-a92a-44c2-abd6-a968d222f78e_152106'"
      ]
     },
     "execution_count": 40,
     "metadata": {},
     "output_type": "execute_result"
    }
   ],
   "source": [
    "failed_execution_name"
   ]
  },
  {
   "cell_type": "code",
   "execution_count": 106,
   "id": "exact-beast",
   "metadata": {},
   "outputs": [],
   "source": [
    "new_statemachine_arn = 'arn:aws:states:us-east-1:133240237239:stateMachine:ce001005-a92a-44c2-abd6-a968d222f78e_152106-FR-20210526'"
   ]
  },
  {
   "cell_type": "code",
   "execution_count": 76,
   "id": "chronic-briefs",
   "metadata": {},
   "outputs": [],
   "source": [
    "failed_input = json.loads(failedInput)"
   ]
  },
  {
   "cell_type": "code",
   "execution_count": null,
   "id": "electric-cinema",
   "metadata": {},
   "outputs": [],
   "source": [
    "json.dumps(failed_input)"
   ]
  },
  {
   "cell_type": "code",
   "execution_count": 104,
   "id": "dense-minute",
   "metadata": {},
   "outputs": [
    {
     "ename": "KeyError",
     "evalue": "'stateMachineArn'",
     "output_type": "error",
     "traceback": [
      "\u001b[0;31m---------------------------------------------------------------------------\u001b[0m",
      "\u001b[0;31mKeyError\u001b[0m                                  Traceback (most recent call last)",
      "\u001b[0;32m<ipython-input-104-e857941bd164>\u001b[0m in \u001b[0;36m<module>\u001b[0;34m\u001b[0m\n\u001b[0;32m----> 1\u001b[0;31m \u001b[0mresponse\u001b[0m\u001b[0;34m[\u001b[0m\u001b[0;34m\"stateMachineArn\"\u001b[0m\u001b[0;34m]\u001b[0m\u001b[0;34m\u001b[0m\u001b[0;34m\u001b[0m\u001b[0m\n\u001b[0m",
      "\u001b[0;31mKeyError\u001b[0m: 'stateMachineArn'"
     ]
    }
   ],
   "source": [
    "response[\"stateMachineArn\"]"
   ]
  },
  {
   "cell_type": "code",
   "execution_count": 105,
   "id": "cutting-apparel",
   "metadata": {},
   "outputs": [
    {
     "ename": "KeyError",
     "evalue": "'stateMachineArn'",
     "output_type": "error",
     "traceback": [
      "\u001b[0;31m---------------------------------------------------------------------------\u001b[0m",
      "\u001b[0;31mKeyError\u001b[0m                                  Traceback (most recent call last)",
      "\u001b[0;32m<ipython-input-105-458538847e08>\u001b[0m in \u001b[0;36m<module>\u001b[0;34m\u001b[0m\n\u001b[1;32m      1\u001b[0m new_sm_name = client.describe_state_machine(\n\u001b[0;32m----> 2\u001b[0;31m             \u001b[0mstateMachineArn\u001b[0m\u001b[0;34m=\u001b[0m\u001b[0mresponse\u001b[0m\u001b[0;34m[\u001b[0m\u001b[0;34m\"stateMachineArn\"\u001b[0m\u001b[0;34m]\u001b[0m\u001b[0;34m\u001b[0m\u001b[0;34m\u001b[0m\u001b[0m\n\u001b[0m\u001b[1;32m      3\u001b[0m         )[\"name\"]\n",
      "\u001b[0;31mKeyError\u001b[0m: 'stateMachineArn'"
     ]
    }
   ],
   "source": [
    "new_sm_name = stateMachineArn=response[\"stateMachineArn\"].split(\":\")[-1]"
   ]
  },
  {
   "cell_type": "code",
   "execution_count": 102,
   "id": "negative-chest",
   "metadata": {},
   "outputs": [],
   "source": [
    "failed_input[\"resuming\"] = True"
   ]
  },
  {
   "cell_type": "code",
   "execution_count": 100,
   "id": "continued-trial",
   "metadata": {},
   "outputs": [
    {
     "data": {
      "text/plain": [
       "'ce001005-a92a-44c2-abd6-a968d222f78e_152106-FR-20210526'"
      ]
     },
     "execution_count": 100,
     "metadata": {},
     "output_type": "execute_result"
    }
   ],
   "source": [
    "new_sm_arn"
   ]
  },
  {
   "cell_type": "code",
   "execution_count": 107,
   "id": "aging-devon",
   "metadata": {},
   "outputs": [],
   "source": [
    "response = client.start_execution(\n",
    "    stateMachineArn=new_statemachine_arn,\n",
    "    name=new_sm_arn + \"-\" +  datetime.now().strftime(\"%H%M%S\"),\n",
    "    input=json.dumps(failed_input)\n",
    ")"
   ]
  },
  {
   "cell_type": "code",
   "execution_count": 109,
   "id": "uniform-double",
   "metadata": {},
   "outputs": [
    {
     "name": "stdout",
     "output_type": "stream",
     "text": [
      "{'ResponseMetadata': {'RequestId': '3095eedd-ae83-4098-a8c3-d0c183eb73fe', 'HTTPStatusCode': 200, 'HTTPHeaders': {'x-amzn-requestid': '3095eedd-ae83-4098-a8c3-d0c183eb73fe', 'content-type': 'application/x-amz-json-1.0', 'content-length': '2'}, 'RetryAttempts': 0}}\n"
     ]
    }
   ],
   "source": [
    "try:\n",
    "    response = client.delete_state_machine(\n",
    "        stateMachineArn=new_statemachine_arn\n",
    "    )\n",
    "except:\n",
    "    raise ('Failed to create new state machine with GoToState')\n",
    "print (response)"
   ]
  },
  {
   "cell_type": "code",
   "execution_count": 110,
   "id": "cubic-peripheral",
   "metadata": {},
   "outputs": [],
   "source": [
    "exec_arn = \"arn:aws:states:us-east-1:133240237239:execution:ce001005-a92a-44c2-abd6-a968d222f78e_152106-FR-20210526:ce001005-a92a-44c2-abd6-a968d222f78e_152106-FR-20210526-110334\""
   ]
  },
  {
   "cell_type": "code",
   "execution_count": 115,
   "id": "contained-freeware",
   "metadata": {},
   "outputs": [
    {
     "data": {
      "text/plain": [
       "'ce001005-a92a-44c2-abd6-a968d222f78e_152106-FR-20210526'"
      ]
     },
     "execution_count": 115,
     "metadata": {},
     "output_type": "execute_result"
    }
   ],
   "source": [
    "exec_arn.split(\":\")[-2]"
   ]
  }
 ],
 "metadata": {
  "kernelspec": {
   "display_name": "Python [conda env:stepfunction-rerun]",
   "language": "python",
   "name": "conda-env-stepfunction-rerun-py"
  },
  "language_info": {
   "codemirror_mode": {
    "name": "ipython",
    "version": 3
   },
   "file_extension": ".py",
   "mimetype": "text/x-python",
   "name": "python",
   "nbconvert_exporter": "python",
   "pygments_lexer": "ipython3",
   "version": "3.8.10"
  }
 },
 "nbformat": 4,
 "nbformat_minor": 5
}
